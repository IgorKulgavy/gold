{
 "cells": [
  {
   "cell_type": "markdown",
   "metadata": {
    "id": "kfQLqxXJTZsr"
   },
   "source": [
    "Компания \"Цифры\" разрабатывает решения для эффективной работы промышленных предприятий.\n",
    "\n",
    "Задача: Подготовить прототип модели машинного обучения. Модель должна предсказать коэффициент восстановления золота из золотосодержащей руды. \n",
    "\n",
    "Этапы:\n",
    "1. Подготовка данных;\n",
    "2. Исследовательский анализ данных;\n",
    "3. Построение и обучение модели.\n",
    "\n",
    "Описание данных\n",
    "\n",
    "Технологический процесс:\n",
    "- Rougher feed — исходное сырье\n",
    "- Rougher additions (или reagent additions) — флотационные реагенты: Xanthate, Sulphate, Depressant\n",
    "  - Xanthate **— ксантогенат (промотер, или активатор флотации);\n",
    "  - Sulphate — сульфат (на данном производстве сульфид натрия);\n",
    "  - Depressant — депрессант (силикат натрия).\n",
    "- Rougher process (англ. «грубый процесс») — флотация\n",
    "- Rougher tails — отвальные хвосты\n",
    "- Float banks — флотационная установка\n",
    "- Cleaner process — очистка\n",
    "- Rougher Au — черновой концентрат золота\n",
    "- Final Au — финальный концентрат золота\n",
    "\n",
    "Параметры этапов:\n",
    "- air amount — объём воздуха\n",
    "- fluid levels — уровень жидкости\n",
    "- feed size — размер гранул сырья\n",
    "- feed rate — скорость подачи"
   ]
  },
  {
   "cell_type": "markdown",
   "metadata": {
    "id": "INjlm7mvi8ar"
   },
   "source": [
    "# Подготовка данных"
   ]
  },
  {
   "cell_type": "markdown",
   "metadata": {
    "id": "Lyx6Ds3Es2Fa"
   },
   "source": [
    "Загружаю файлы\n"
   ]
  },
  {
   "cell_type": "code",
   "execution_count": null,
   "metadata": {
    "id": "GbiHtX_kVuMN"
   },
   "outputs": [],
   "source": [
    "import pandas as pd\n",
    "from sklearn.model_selection import train_test_split\n",
    "from sklearn.metrics import mean_absolute_error\n",
    "from sklearn.linear_model import LinearRegression\n",
    "from sklearn.ensemble import RandomForestRegressor\n",
    "import matplotlib.pyplot as plt\n",
    "import seaborn as sns\n",
    "import numpy as np\n",
    "from sklearn.model_selection import cross_val_score\n",
    "from sklearn.model_selection import KFold\n",
    "from datetime import datetime\n",
    "from sklearn.preprocessing import StandardScaler"
   ]
  },
  {
   "cell_type": "code",
   "execution_count": null,
   "metadata": {
    "colab": {
     "base_uri": "https://localhost:8080/"
    },
    "id": "Rf5ySHsFUZ-D",
    "outputId": "0ffb6998-e51c-4c18-9abe-39ad0f4535db"
   },
   "outputs": [],
   "source": [
    "try:\n",
    "    df_full = pd.read_csv('/datasets/gold_recovery_full_new.csv')\n",
    "    df_train = pd.read_csv('/datasets/gold_recovery_train_new.csv')\n",
    "    df_test = pd.read_csv('/datasets/gold_recovery_test_new.csv')\n",
    "except:\n",
    "    from google.colab import drive\n",
    "    drive.mount('/content/drive')\n",
    "    df_full = pd.read_csv('/content/drive/MyDrive/Colab_Notebooks/12_sprint/gold_recovery_full_new.csv')\n",
    "    df_train = pd.read_csv('/content/drive/MyDrive/Colab_Notebooks/12_sprint/gold_recovery_train_new.csv')\n",
    "    df_test = pd.read_csv('/content/drive/MyDrive/Colab_Notebooks/12_sprint/gold_recovery_test_new.csv')"
   ]
  },
  {
   "cell_type": "markdown",
   "metadata": {
    "id": "WkUSbje4s86p"
   },
   "source": [
    "Задаю гиперпараметры"
   ]
  },
  {
   "cell_type": "code",
   "execution_count": null,
   "metadata": {
    "id": "wI1fDN6Fk6su"
   },
   "outputs": [],
   "source": [
    "RANDOM_STATE = 12345"
   ]
  },
  {
   "cell_type": "markdown",
   "metadata": {
    "id": "hd6G33g5s_-D"
   },
   "source": [
    "Анализ загруженных данных."
   ]
  },
  {
   "cell_type": "code",
   "execution_count": null,
   "metadata": {
    "colab": {
     "base_uri": "https://localhost:8080/",
     "height": 835
    },
    "id": "8x2Zv4vuVkMp",
    "outputId": "8a5bf981-8461-4b6b-fa9d-d24b2429b93b"
   },
   "outputs": [],
   "source": [
    "df_full.head(5)"
   ]
  },
  {
   "cell_type": "code",
   "execution_count": null,
   "metadata": {
    "colab": {
     "base_uri": "https://localhost:8080/"
    },
    "id": "Mg9gJjkWVxnF",
    "outputId": "4bea49ff-7d63-4bd7-ae0d-2a8516ef197b"
   },
   "outputs": [],
   "source": [
    "df_full.info()"
   ]
  },
  {
   "cell_type": "code",
   "execution_count": null,
   "metadata": {
    "colab": {
     "base_uri": "https://localhost:8080/",
     "height": 835
    },
    "id": "3oKFcj70tFe6",
    "outputId": "29a72e76-9110-4944-bf6e-f72469549e1d"
   },
   "outputs": [],
   "source": [
    "df_train"
   ]
  },
  {
   "cell_type": "code",
   "execution_count": null,
   "metadata": {
    "colab": {
     "base_uri": "https://localhost:8080/"
    },
    "id": "qFjUhKqItJkY",
    "outputId": "f83cbb89-c349-4da0-f9cf-3bc36d5d95e3"
   },
   "outputs": [],
   "source": [
    "df_train.info()"
   ]
  },
  {
   "cell_type": "code",
   "execution_count": null,
   "metadata": {
    "colab": {
     "base_uri": "https://localhost:8080/",
     "height": 835
    },
    "id": "_yN6MF1QtMBo",
    "outputId": "59278d76-0e64-4186-a50a-73c65f3ca5cd"
   },
   "outputs": [],
   "source": [
    "df_test"
   ]
  },
  {
   "cell_type": "code",
   "execution_count": null,
   "metadata": {
    "colab": {
     "base_uri": "https://localhost:8080/"
    },
    "id": "DpYBzN_jtP8T",
    "outputId": "b333e267-5e3b-4cf1-838a-414e7526b125"
   },
   "outputs": [],
   "source": [
    "df_test.info()"
   ]
  },
  {
   "cell_type": "markdown",
   "metadata": {
    "id": "zVskjRkbjN9J"
   },
   "source": [
    "### Проверка правильности расчёта эффективности обогащения"
   ]
  },
  {
   "cell_type": "markdown",
   "metadata": {
    "id": "M3FSNPCXbF1D"
   },
   "source": [
    "Проверка правильности расчёта обогащения сырья."
   ]
  },
  {
   "cell_type": "code",
   "execution_count": null,
   "metadata": {
    "id": "2GnmchIMd-B8"
   },
   "outputs": [],
   "source": [
    "C = df_train['rougher.output.concentrate_au'] #доля золота в концентрате после флотации/очистки\n",
    "F = df_train['rougher.input.feed_au'] #доля золота в сырье/концентрате до флотации/очистки\n",
    "T = df_train['rougher.output.tail_au'] #доля золота в отвальных хвостах после флотации/очистки"
   ]
  },
  {
   "cell_type": "markdown",
   "metadata": {
    "id": "sbk3vQ_mfXZC"
   },
   "source": [
    "Расчёт эффективности обогащения"
   ]
  },
  {
   "cell_type": "code",
   "execution_count": null,
   "metadata": {
    "id": "u56sTDntbSgO"
   },
   "outputs": [],
   "source": [
    "recovery = ( (C * (F-T))/ (F * (C - T)) ) *100"
   ]
  },
  {
   "cell_type": "markdown",
   "metadata": {
    "id": "HBSo54wcfayo"
   },
   "source": [
    "Сравнение расчитанной эффективности обучения с предоставленными в данных."
   ]
  },
  {
   "cell_type": "code",
   "execution_count": null,
   "metadata": {
    "colab": {
     "base_uri": "https://localhost:8080/"
    },
    "id": "tHVtfwbsfBKj",
    "outputId": "25294e5d-1c69-463d-8f83-fc23494c6600"
   },
   "outputs": [],
   "source": [
    "mae_recovery = mean_absolute_error(df_train['rougher.output.recovery'], recovery)\n",
    "mae_recovery"
   ]
  },
  {
   "cell_type": "markdown",
   "metadata": {
    "id": "uIcK39SiiMrL"
   },
   "source": [
    "Разница между полученным результатом и предоставленным в исходных данных минимальна. Можно считать что эффективность изначально была расчитана корректно."
   ]
  },
  {
   "cell_type": "markdown",
   "metadata": {
    "id": "3GQS_vkIDZVI"
   },
   "source": [
    "### Сравнение данных в тестовом и полном наборе данных."
   ]
  },
  {
   "cell_type": "markdown",
   "metadata": {
    "id": "xV2RVHnoZWdy"
   },
   "source": [
    "Сравниваю данные в файле с полным датасетом и тестовым"
   ]
  },
  {
   "cell_type": "code",
   "execution_count": null,
   "metadata": {
    "colab": {
     "base_uri": "https://localhost:8080/"
    },
    "id": "TgYCeN-XgyGB",
    "outputId": "bc1bb38c-10f5-47de-f333-7165ac8ecddd"
   },
   "outputs": [],
   "source": [
    "test_columns = list(df_test.columns.values)\n",
    "full_columns = list(df_full.columns.values)\n",
    "not_in_full =[]\n",
    "for i in full_columns:\n",
    "    if i not in test_columns:\n",
    "        not_in_full.append(i)\n",
    "\n",
    "print(pd.Series(not_in_full))\n"
   ]
  },
  {
   "cell_type": "markdown",
   "metadata": {
    "id": "2IuPr_vyZVSx"
   },
   "source": [
    "В тестовом файле отсутсвуют колонки содержащие значения количества веществ содержащихся на выходе после каждого этапа. "
   ]
  },
  {
   "cell_type": "markdown",
   "metadata": {
    "id": "XfY0KoCYiGuk"
   },
   "source": [
    "### Предобработка данных"
   ]
  },
  {
   "cell_type": "markdown",
   "metadata": {
    "id": "UvEWRqbwafbM"
   },
   "source": [
    "Обработаю данные для дальнейшей работы. Ранее в данных были обнаружены пропуски, заменим их близкими по значению. В ТЗ сказано, что соседние по времени значения схожи."
   ]
  },
  {
   "cell_type": "code",
   "execution_count": null,
   "metadata": {},
   "outputs": [],
   "source": [
    "df_full[['rougher.output.concentrate_au','final.output.concentrate_au']].isna().sum()"
   ]
  },
  {
   "cell_type": "code",
   "execution_count": null,
   "metadata": {
    "id": "nou71SsWELVo"
   },
   "outputs": [],
   "source": [
    "df_full = df_full.fillna(method='ffill') \n",
    "df_train = df_train.fillna(method='ffill')\n",
    "df_test = df_test.fillna(method='ffill')"
   ]
  },
  {
   "cell_type": "markdown",
   "metadata": {
    "id": "6uD6GPEA0neQ"
   },
   "source": [
    "Проверяю"
   ]
  },
  {
   "cell_type": "code",
   "execution_count": null,
   "metadata": {
    "colab": {
     "base_uri": "https://localhost:8080/"
    },
    "id": "SPh6vq5cxPRo",
    "outputId": "f2ea65f9-7011-4ea7-bcdc-c4cd9bd47f7e"
   },
   "outputs": [],
   "source": [
    "df_full.info()"
   ]
  },
  {
   "cell_type": "code",
   "execution_count": null,
   "metadata": {
    "colab": {
     "base_uri": "https://localhost:8080/"
    },
    "id": "s1NduzAYXXLB",
    "outputId": "1ae38841-1be8-454a-cadd-a17b78ffcdc7"
   },
   "outputs": [],
   "source": [
    "df_train.info()"
   ]
  },
  {
   "cell_type": "markdown",
   "metadata": {},
   "source": [
    "Изменяю тип данных в столбцах с датой"
   ]
  },
  {
   "cell_type": "code",
   "execution_count": null,
   "metadata": {},
   "outputs": [],
   "source": [
    "df_train['date'] = pd.to_datetime(df_train['date'])\n",
    "df_full['date'] = pd.to_datetime(df_full['date'])\n",
    "df_test['date'] = pd.to_datetime(df_test['date'])"
   ]
  },
  {
   "cell_type": "markdown",
   "metadata": {},
   "source": [
    "Проверка"
   ]
  },
  {
   "cell_type": "code",
   "execution_count": null,
   "metadata": {},
   "outputs": [],
   "source": [
    "print(type(df_test['date'][0]))\n",
    "print(type(df_full['date'][0]))\n",
    "print(type(df_train['date'][0]))"
   ]
  },
  {
   "cell_type": "markdown",
   "metadata": {},
   "source": [
    "Проверяю дубликаты"
   ]
  },
  {
   "cell_type": "code",
   "execution_count": null,
   "metadata": {},
   "outputs": [],
   "source": [
    "df_train.duplicated().sum()"
   ]
  },
  {
   "cell_type": "code",
   "execution_count": null,
   "metadata": {},
   "outputs": [],
   "source": [
    "df_test.duplicated().sum()"
   ]
  },
  {
   "cell_type": "code",
   "execution_count": null,
   "metadata": {},
   "outputs": [],
   "source": [
    "df_full.duplicated().sum()"
   ]
  },
  {
   "cell_type": "markdown",
   "metadata": {
    "id": "Lhwnqel71Mh0"
   },
   "source": [
    "Промежуточные выводы:\n",
    "1. Загруженны данные.\n",
    "2. В данных обнаружены пропуски. Они были заменены схожими на основе данных близких по времени.\n",
    "3. Вывлено различие в количесвте признаков между тестовой и общей выборкой."
   ]
  },
  {
   "cell_type": "markdown",
   "metadata": {
    "id": "_bgngkqu-vn5"
   },
   "source": [
    "# Подготовка прототипа модели МО"
   ]
  },
  {
   "cell_type": "markdown",
   "metadata": {
    "id": "aWDX1NSq-3Wo"
   },
   "source": [
    "### Анализ изменения концентрации AU, AG, PB на разных этапах отчистки."
   ]
  },
  {
   "cell_type": "markdown",
   "metadata": {
    "id": "ZkmE0z8s_gcE"
   },
   "source": [
    "Исследуем измененя уровня содержания золота на всех этапах отчистки отдельно и общую динамику."
   ]
  },
  {
   "cell_type": "code",
   "execution_count": null,
   "metadata": {
    "colab": {
     "base_uri": "https://localhost:8080/",
     "height": 1000
    },
    "id": "xn7u60Wk0mbf",
    "outputId": "57adccf9-581b-43bd-9b62-cf7008f272cc"
   },
   "outputs": [],
   "source": [
    "df_full['rougher.output.concentrate_au'].hist(figsize=(15,7), bins = 30,alpha=0.5, legend=True)\n",
    "plt.title('Концентрация золота после флотации'+ \"\\n\")\n",
    "plt.xlabel('Доля, %')\n",
    "plt.ylabel('Кол-во наблюдений');\n",
    "\n",
    "\n",
    "df_full['primary_cleaner.output.concentrate_au'].hist(figsize=(15,7), bins = 30,alpha=0.5, legend=True)\n",
    "plt.title('Концентрация золота после первичной отчистки'+ \"\\n\")\n",
    "plt.xlabel('Доля, %')\n",
    "plt.ylabel('Кол-во наблюдений');\n",
    "\n",
    "\n",
    "df_full['final.output.concentrate_au'].hist(figsize=(15,7), bins = 30,alpha=0.5, legend=True)\n",
    "plt.title('Концентрация золота в финальном продукте'+ \"\\n\")\n",
    "plt.xlabel('Доля, %')\n",
    "plt.ylabel('Кол-во наблюдений');\n"
   ]
  },
  {
   "cell_type": "markdown",
   "metadata": {
    "id": "zMcuanOTYiCg"
   },
   "source": [
    "Рассмотрим содержание серебра на всех этапах отчистки сырья."
   ]
  },
  {
   "cell_type": "code",
   "execution_count": null,
   "metadata": {
    "colab": {
     "base_uri": "https://localhost:8080/",
     "height": 1000
    },
    "id": "CqncEPYxYJWH",
    "outputId": "b8404154-b048-4d9e-bd93-85155da97a9b"
   },
   "outputs": [],
   "source": [
    "df_full['rougher.output.concentrate_ag'].hist(figsize=(15,7), bins = 30,alpha=0.5, legend=True)\n",
    "plt.title('Концентрация серебра после флотации'+ \"\\n\")\n",
    "plt.xlabel('Доля, %')\n",
    "plt.ylabel('Кол-во наблюдений');\n",
    "\n",
    "\n",
    "df_full['primary_cleaner.output.concentrate_ag'].hist(figsize=(15,7), bins = 30, alpha=0.5, legend=True)\n",
    "plt.title('Концентрация серебра после первичной отчистки'+ \"\\n\")\n",
    "plt.xlabel('Доля, %')\n",
    "plt.ylabel('Кол-во наблюдений');\n",
    "\n",
    "\n",
    "df_full['final.output.concentrate_ag'].hist(figsize=(15,7), bins = 30, alpha=0.5, legend=True)\n",
    "plt.title('Концентрация серебра в финальном продукте'+ \"\\n\")\n",
    "plt.xlabel('Доля, %')\n",
    "plt.ylabel('Кол-во наблюдений');\n"
   ]
  },
  {
   "cell_type": "markdown",
   "metadata": {
    "id": "PYHN0M0fZGRv"
   },
   "source": [
    "Исследуем содержание свинца на всех этапах отчистки"
   ]
  },
  {
   "cell_type": "code",
   "execution_count": null,
   "metadata": {
    "colab": {
     "base_uri": "https://localhost:8080/",
     "height": 1000
    },
    "id": "ZoDb58jSZPl7",
    "outputId": "1093af42-8d60-4734-d8c1-a77d3157faa2"
   },
   "outputs": [],
   "source": [
    "df_full['rougher.output.concentrate_pb'].hist(figsize=(15,7), bins = 30,alpha=0.5, legend=True)\n",
    "plt.title('Концентрация свинца после флотации'+ \"\\n\")\n",
    "plt.xlabel('Доля, %')\n",
    "plt.ylabel('Кол-во наблюдений');\n",
    "\n",
    "df_full['primary_cleaner.output.concentrate_pb'].hist(figsize=(15,7), bins = 30,alpha=0.5, legend=True)\n",
    "plt.title('Концентрация свинца после первичной отчистки'+ \"\\n\")\n",
    "plt.xlabel('Доля, %')\n",
    "plt.ylabel('Кол-во наблюдений');\n",
    "\n",
    "\n",
    "df_full['final.output.concentrate_pb'].hist(figsize=(15,7), bins = 30,alpha=0.5, legend=True)\n",
    "plt.title('Концентрация свинца в финальном продукте'+ \"\\n\")\n",
    "plt.xlabel('Доля, %')\n",
    "plt.ylabel('Кол-во наблюдений');\n"
   ]
  },
  {
   "cell_type": "markdown",
   "metadata": {
    "id": "x8JUaU_4Z2M0"
   },
   "source": [
    "Рассмотрю в динамике изменения концентрации веществ в сырье. Дополнительно рассмотрим содержание в \"хвостах\"."
   ]
  },
  {
   "cell_type": "code",
   "execution_count": null,
   "metadata": {
    "id": "5FgOudCYaNlg"
   },
   "outputs": [],
   "source": [
    "au_on_stages = df_full[['rougher.input.feed_au', 'rougher.output.concentrate_au','primary_cleaner.output.concentrate_au','final.output.concentrate_au']].median()\n",
    "ag_on_stages = df_full[['rougher.input.feed_ag','rougher.output.concentrate_ag','primary_cleaner.output.concentrate_ag','final.output.concentrate_ag']].median()\n",
    "pb_on_stages = df_full[['rougher.input.feed_pb','rougher.output.concentrate_pb','primary_cleaner.output.concentrate_pb','final.output.concentrate_pb']].median()"
   ]
  },
  {
   "cell_type": "code",
   "execution_count": null,
   "metadata": {
    "colab": {
     "base_uri": "https://localhost:8080/",
     "height": 491
    },
    "id": "gtkUuftecZB9",
    "outputId": "4080cfca-2dc5-4f05-87e8-037ee160dc06"
   },
   "outputs": [],
   "source": [
    "plt.figure(figsize=(10,5), dpi= 80)\n",
    "pb_on_stages.plot(kind='line', color=\"g\", label = 'Pb',legend='pb')\n",
    "au_on_stages.plot(kind='line', color=\"black\", legend=\"Au\", label = 'Au')\n",
    "ag_on_stages.plot(kind='line', color=\"dodgerblue\", legend=\"Pg\", label = 'Ag')\n",
    "plt.title('Изменение концентрациии веществ в сырье на этапах отчистки')\n",
    "plt.show()"
   ]
  },
  {
   "cell_type": "code",
   "execution_count": null,
   "metadata": {
    "id": "Uf44LWBkftgo"
   },
   "outputs": [],
   "source": [
    "au_tails_on_stages = df_full[['rougher.output.tail_au','primary_cleaner.output.tail_au','secondary_cleaner.output.tail_au', 'final.output.tail_au']].median()\n",
    "ag_tails_on_stages = df_full[['rougher.output.tail_ag','primary_cleaner.output.tail_ag','secondary_cleaner.output.tail_ag', 'final.output.tail_ag']].median()\n",
    "pb_tails_on_stages = df_full[['rougher.output.tail_pb','primary_cleaner.output.tail_pb','secondary_cleaner.output.tail_pb', 'final.output.tail_pb']].median()"
   ]
  },
  {
   "cell_type": "code",
   "execution_count": null,
   "metadata": {
    "colab": {
     "base_uri": "https://localhost:8080/",
     "height": 491
    },
    "id": "Oto6MOEHfbhE",
    "outputId": "e6f2eb08-e890-4b3a-a896-91f8f972af8b"
   },
   "outputs": [],
   "source": [
    "plt.figure(figsize=(10,5), dpi= 80)\n",
    "pb_tails_on_stages.plot(kind='line',color=\"g\", label = 'Pb',legend='pb')\n",
    "au_tails_on_stages.plot(kind='line',color=\"black\", legend=\"Au\", label = 'Au')\n",
    "ag_tails_on_stages.plot(kind='line',color=\"dodgerblue\", legend=\"Pg\", label = 'Ag')\n",
    "plt.title('Изменение концентрациии веществ в \"хвостах\" на этапах отчистки')\n",
    "plt.show()"
   ]
  },
  {
   "cell_type": "markdown",
   "metadata": {
    "id": "U-4IZGzMi-zL"
   },
   "source": [
    "### Анализ размера гранул сырья в тестовой и обучающей выборке."
   ]
  },
  {
   "cell_type": "code",
   "execution_count": null,
   "metadata": {
    "id": "o3svAl4EmxFh"
   },
   "outputs": [],
   "source": [
    "test_fraction = df_test[['rougher.input.feed_size','primary_cleaner.input.feed_size']]\n",
    "train_fraction = df_train[['rougher.input.feed_size','primary_cleaner.input.feed_size']]"
   ]
  },
  {
   "cell_type": "code",
   "execution_count": null,
   "metadata": {
    "colab": {
     "base_uri": "https://localhost:8080/",
     "height": 931
    },
    "id": "wwV3FA-Zal7O",
    "outputId": "3637dcd0-8301-4c3b-c7b6-7b3695e0b930"
   },
   "outputs": [],
   "source": [
    "df_test['rougher.input.feed_size'].hist(figsize=(10,5), bins = 30,alpha=0.5,label='test')\n",
    "plt.title('Размеры гранул в тестовой выборке после флотации'+ \"\\n\")\n",
    "plt.xlabel('Мкм')\n",
    "plt.ylabel('Кол-во наблюдений')\n",
    "plt.xlim(0,150)\n",
    "plt.legend()\n",
    "\n",
    "df_train['rougher.input.feed_size'].hist(figsize=(15,7), bins = 30,alpha=0.5, label='train')\n",
    "plt.title('Размеры гранул в тренировочной выборке после флотации'+ \"\\n\")\n",
    "plt.xlabel('Мкм')\n",
    "plt.ylabel('Кол-во наблюдений')\n",
    "plt.xlim(0,150)\n",
    "plt.legend();"
   ]
  },
  {
   "cell_type": "code",
   "execution_count": null,
   "metadata": {
    "colab": {
     "base_uri": "https://localhost:8080/",
     "height": 931
    },
    "id": "Uyv5IMdBkJM9",
    "outputId": "41877a86-48d5-44e1-d810-b6835b442e68"
   },
   "outputs": [],
   "source": [
    "df_test['primary_cleaner.input.feed_size'].hist(figsize=(10,5), bins = 30,alpha=0.5, label='test')\n",
    "plt.title('Размеры гранул в тестовой выборке после первичной отчистки'+ \"\\n\")\n",
    "plt.xlabel('Мкм')\n",
    "plt.ylabel('Кол-во наблюдений')\n",
    "plt.xlim(2,15)\n",
    "plt.legend()\n",
    "\n",
    "df_train['primary_cleaner.input.feed_size'].hist(figsize=(15,7), bins = 30,alpha=0.5, label='train')\n",
    "plt.title('Размеры гранул в тренировочной выборке после первичной отчистки'+ \"\\n\")\n",
    "plt.xlabel('Мкм')\n",
    "plt.ylabel('Кол-во наблюдений')\n",
    "plt.xlim(2,15)\n",
    "plt.legend();"
   ]
  },
  {
   "cell_type": "code",
   "execution_count": null,
   "metadata": {
    "colab": {
     "base_uri": "https://localhost:8080/"
    },
    "id": "KiCCUxbPt6xT",
    "outputId": "05f0d864-3403-41de-d1c6-5396751c1a7d"
   },
   "outputs": [],
   "source": [
    "print(f'Средний размер гранул в тестовой выборке после флотации {df_test[\"rougher.input.feed_size\"].mean():.2f} мкм.')\n",
    "print(f'Средний размер гранул в тренировочной выборке после флотации {df_train[\"rougher.input.feed_size\"].mean():.2f} мкм.')\n",
    "print(f'Средний размер гранул в тестовой выборке после первичной отчистки {df_test[\"primary_cleaner.input.feed_size\"].mean():.2f} мкм.')\n",
    "print(f'Средний размер гранул в тренировочной выборке после первичной отчистки {df_train[\"primary_cleaner.input.feed_size\"].mean():.2f} мкм.')"
   ]
  },
  {
   "cell_type": "markdown",
   "metadata": {},
   "source": [
    "Промежуточный вывод:\n",
    "- Размер гранул после флотации имеют небольшие различия в 4,3 мкм. \n",
    "- После первичной отчистки размеры почти идентичны. \n",
    "- Значения распределены одинаково. \n",
    "- Оценка модели будет правильной."
   ]
  },
  {
   "cell_type": "markdown",
   "metadata": {
    "id": "AZg-yQ5GDA4H"
   },
   "source": [
    "## Анализ суммарной концентрации всех веществ на разных стадиях."
   ]
  },
  {
   "cell_type": "markdown",
   "metadata": {
    "id": "qMRrAd3UDQPK"
   },
   "source": [
    "Выделяю данные содержащие информацию о веществах."
   ]
  },
  {
   "cell_type": "code",
   "execution_count": null,
   "metadata": {
    "id": "5-0UDiQwE_Zv"
   },
   "outputs": [],
   "source": [
    "df_full_sum = df_full"
   ]
  },
  {
   "cell_type": "code",
   "execution_count": null,
   "metadata": {
    "id": "uhyOq5ogBDz1"
   },
   "outputs": [],
   "source": [
    "df_full_sum['rougher_input_sum'] = df_full['rougher.input.feed_ag'] + df_full['rougher.input.feed_au'] + df_full['rougher.input.feed_pb'] + df_full['rougher.input.feed_sol']\n",
    "df_full_sum['roughter_output_sum'] = df_full['rougher.output.concentrate_ag'] + df_full['rougher.output.concentrate_au'] + df_full['rougher.output.concentrate_pb'] + df_full['rougher.output.concentrate_sol']\n",
    "df_full_sum['primary_cleaner_output_sum'] = df_full['primary_cleaner.output.concentrate_ag'] + df_full['primary_cleaner.output.tail_au'] + df_full['primary_cleaner.output.tail_pb'] + df_full['primary_cleaner.output.tail_sol']\n",
    "df_full_sum['final_output_sum'] = df_full['final.output.concentrate_ag'] + df_full['final.output.tail_au'] + df_full['final.output.tail_pb'] + df_full['final.output.tail_sol']\n",
    "\n"
   ]
  },
  {
   "cell_type": "code",
   "execution_count": null,
   "metadata": {
    "id": "I8zhdIzTGiSB"
   },
   "outputs": [],
   "source": [
    "stages = pd.DataFrame()\n",
    "stages = df_full[['rougher_input_sum', 'roughter_output_sum', 'primary_cleaner_output_sum', 'final_output_sum']]\n"
   ]
  },
  {
   "cell_type": "code",
   "execution_count": null,
   "metadata": {},
   "outputs": [],
   "source": [
    "def histbox(df:pd.DataFrame):\n",
    "    df_hist = df.melt()\n",
    "    hue = 'variable'\n",
    "    f, (ax_hist, ax_box) = plt.subplots(2, sharex=True, figsize=(10,10),\n",
    "                                        gridspec_kw={\"height_ratios\": (.9,.1)})\n",
    "\n",
    "    sns.boxplot(data = df, orient=\"h\", ax=ax_box, fliersize=.5)\n",
    "\n",
    "    sns.histplot(data = df_hist, x=\"value\", ax=ax_hist, hue=hue)\n",
    "    \n",
    "\n",
    "    sns.despine(ax=ax_hist)\n",
    "    sns.despine(ax=ax_box, left=True)\n",
    "    ax_box.tick_params(axis=\"y\",which=\"both\",labelleft=False)\n",
    "\n",
    "template = ['rougher_input_{}','roughter_output_{}',\n",
    "            'primary_cleaner_output_{}','final_output_{}']\n",
    "func = 'sum'\n",
    "columns = [txt.format(func) for txt in template]\n",
    "\n",
    "histbox(df_full[columns])"
   ]
  },
  {
   "cell_type": "markdown",
   "metadata": {
    "id": "-w_O7swME-Uy"
   },
   "source": [
    "На гистограме видно нормальное распределение значений. На боксплоте видны аномальные значения. Оценим их объем."
   ]
  },
  {
   "cell_type": "code",
   "execution_count": null,
   "metadata": {
    "colab": {
     "base_uri": "https://localhost:8080/"
    },
    "id": "r9VKmZyHWrp6",
    "outputId": "6846327b-76a1-4010-b640-94d9382928e7"
   },
   "outputs": [],
   "source": [
    "print('Соотношение аномальных значений в параметрах сырья к общему количеству: ',(df_full_sum['rougher_input_sum']<10).mean())\n",
    "print('Соотношение аномальных значений сырья к общему количеству после флотации: ',(df_full_sum['roughter_output_sum']<20).mean())\n",
    "print('Соотношение аномальных значений сырья к общему количеству после первичной обработки: ',(df_full_sum['primary_cleaner_output_sum']<10).mean())\n",
    "print('Соотношение аномальных значений сырья к общему количеству, финальные харрактеристики: ',(df_full_sum['final_output_sum']<10).mean())"
   ]
  },
  {
   "cell_type": "markdown",
   "metadata": {
    "id": "a44ZYWe8OXZ9"
   },
   "source": [
    "Выбросов мало. Рассмотрим их поподробнее."
   ]
  },
  {
   "cell_type": "code",
   "execution_count": null,
   "metadata": {
    "colab": {
     "base_uri": "https://localhost:8080/"
    },
    "id": "yCNiEH93-UsR",
    "outputId": "e19a536b-795f-427d-948d-61a40788933e"
   },
   "outputs": [],
   "source": [
    "print(df_full_sum[df_full_sum['rougher_input_sum']<5]['rougher_input_sum'])\n",
    "print()\n",
    "print(df_full_sum[df_full_sum['roughter_output_sum']<5]['roughter_output_sum'])\n",
    "print()\n",
    "print(df_full_sum[df_full_sum['primary_cleaner_output_sum']<3]['primary_cleaner_output_sum'])\n",
    "print()\n",
    "print(df_full_sum[df_full_sum['final_output_sum']<5]['final_output_sum'])"
   ]
  },
  {
   "cell_type": "markdown",
   "metadata": {
    "id": "PMdXySvXi4un"
   },
   "source": [
    "Выявлены аномальные значения близкие к нулю или равные ему на разных этапах отчистки. Объем данных небольшой. Можно удалить в выборках для улучшения качества данных и модели."
   ]
  },
  {
   "cell_type": "code",
   "execution_count": null,
   "metadata": {
    "id": "OgcqElofQXUA"
   },
   "outputs": [],
   "source": [
    "df_train_sum = df_train\n",
    "df_train_sum['rougher_input_sum'] = df_train['rougher.input.feed_ag'] + df_train['rougher.input.feed_au'] + df_train['rougher.input.feed_pb'] + df_train['rougher.input.feed_sol']\n",
    "df_train_sum['roughter_output_sum'] = df_train['rougher.output.concentrate_ag'] + df_train['rougher.output.concentrate_au'] + df_train['rougher.output.concentrate_pb'] + df_train['rougher.output.concentrate_sol']\n",
    "df_train_sum['final_output_sum'] = df_train['final.output.concentrate_ag'] + df_train['final.output.tail_au'] + df_train['final.output.tail_pb'] + df_train['final.output.tail_sol']\n",
    "df_train_sum['primary_cleaner_output_sum'] = df_train['primary_cleaner.output.concentrate_ag'] + df_train['primary_cleaner.output.tail_au'] + df_train['primary_cleaner.output.tail_pb'] + df_train['primary_cleaner.output.tail_sol']\n"
   ]
  },
  {
   "cell_type": "code",
   "execution_count": null,
   "metadata": {
    "id": "GR57fVuqTMX9"
   },
   "outputs": [],
   "source": [
    "full_anomaly = df_full_sum.query(\" rougher_input_sum <5 |  roughter_output_sum  < 5 | primary_cleaner_output_sum < 3 \")\n",
    "df_full_clear = df_full.drop(index = full_anomaly.index)\n",
    "train_anomaly = df_train_sum.query(\" rougher_input_sum <5 |  roughter_output_sum  < 5 | primary_cleaner_output_sum < 3 \")\n",
    "df_train_clear = df_train.drop(index = train_anomaly.index)\n",
    "\n"
   ]
  },
  {
   "cell_type": "markdown",
   "metadata": {
    "id": "4Jn_RZc1G1G2"
   },
   "source": [
    "Промежуточные выводы:\n",
    "1. Проведен анализ изменения концентрации золота, серебра и свинца на разных этапах в основном концентрате и в \"хвостах\":\n",
    "  - золото - постепенное увеличение; \n",
    "  - серебро - постепенное уменьшение;\n",
    "  - свинец - небольшое увеличение и равенство на заключительных этапах;\n",
    "  - в \"хвостах\" содержание данных элементов увеличивается с последующим снижением к финальной обработке.\n",
    "2. Проанализирован размер гранул в тестовой и обучающей выборке - распределение нормальное, параметры схожи.\n",
    "3. Проанализирован тренд изменения суммарной концентрации всех веществк на всех этапах. Наблюдается рост после флотации с последующим уменьшением.\n",
    "4. Рассмотренно распределение суммарной концентрации веществ на каждом этапе - распределение нормальное.\n",
    "5. При анализе распределения выявлены аномалии. Объём аномалий незначительный, принято решение убрать их из данных."
   ]
  },
  {
   "cell_type": "markdown",
   "metadata": {
    "id": "whchWolzG5fg"
   },
   "source": [
    "# Построение модели"
   ]
  },
  {
   "cell_type": "markdown",
   "metadata": {
    "id": "H_CiNNNQWJPS"
   },
   "source": [
    "## Вычисление итоговой sMAPE"
   ]
  },
  {
   "cell_type": "markdown",
   "metadata": {
    "id": "IQEzrw3PXi6E"
   },
   "source": [
    "Создам функцию для расчёта итогового smape."
   ]
  },
  {
   "cell_type": "markdown",
   "metadata": {},
   "source": [
    "$ \\text{sMAPE} = \\frac{1}{N}\\sum_{i=1}^{N}{\\frac{|y_i - \\hat{y}_i|}{(|y_i| + |\\hat{y}_i|) \\div 2}}$\n",
    "   "
   ]
  },
  {
   "cell_type": "code",
   "execution_count": null,
   "metadata": {
    "id": "VvvZ27WGWLA3"
   },
   "outputs": [],
   "source": [
    "def smape (target, predict):\n",
    "    smape = 1/len(target) * np.sum(2 * np.abs(predict-target) / (np.abs(target) + np.abs(predict))*100)\n",
    "    return smape\n",
    "\n",
    "\n",
    "def smape_total (roughter, final):\n",
    "    total_smape = 0.25*roughter + 0.75*final\n",
    "    return total_smape"
   ]
  },
  {
   "cell_type": "markdown",
   "metadata": {
    "id": "4OJKefj3f7ig"
   },
   "source": [
    "## Обучение моделей"
   ]
  },
  {
   "cell_type": "markdown",
   "metadata": {
    "id": "V-gN_lFWgOqt"
   },
   "source": [
    "Подготовим данные и обучим модель для чернового концентрата.\n",
    "Выбираю столбцы с признаками из тестового датасета."
   ]
  },
  {
   "cell_type": "code",
   "execution_count": null,
   "metadata": {
    "id": "QHAcGPeVolm6"
   },
   "outputs": [],
   "source": [
    "columns_test = list(df_test.drop('date',axis=1).columns.values)"
   ]
  },
  {
   "cell_type": "markdown",
   "metadata": {
    "id": "RfrzmXcU1PUL"
   },
   "source": [
    "Оставляю в обучающей выборке только нужные колонки."
   ]
  },
  {
   "cell_type": "code",
   "execution_count": null,
   "metadata": {
    "id": "3UH24WAPpA7x"
   },
   "outputs": [],
   "source": [
    "df_train_model = df_train_clear[columns_test]"
   ]
  },
  {
   "cell_type": "markdown",
   "metadata": {
    "id": "QyZkkO8u2Jwv"
   },
   "source": [
    "Целевой признак возьму из чистого тренировочного датасета. Для предсказания возьмём признкаи из данных по флотации."
   ]
  },
  {
   "cell_type": "code",
   "execution_count": null,
   "metadata": {},
   "outputs": [],
   "source": [
    "df_train_model.shape"
   ]
  },
  {
   "cell_type": "code",
   "execution_count": null,
   "metadata": {},
   "outputs": [],
   "source": [
    "df_train_scaled = df_train_model.copy()\n",
    "\n",
    "features = df_train_scaled[columns_test]\n",
    "scaler = StandardScaler().fit(df_train_scaled.values)\n",
    "features = scaler.transform(features.values)\n",
    "df_train_scaled[columns_test] = features"
   ]
  },
  {
   "cell_type": "markdown",
   "metadata": {
    "id": "mfw1nGBW6ovD"
   },
   "source": [
    "Провожу кросс валидацию посредством kFold."
   ]
  },
  {
   "cell_type": "code",
   "execution_count": null,
   "metadata": {
    "id": "m2hfIPhCMP2Q"
   },
   "outputs": [],
   "source": [
    "kf = KFold(n_splits=5)"
   ]
  },
  {
   "cell_type": "markdown",
   "metadata": {
    "id": "ifj47VqGStkv"
   },
   "source": [
    "Определяю лучший smape на модели Линейной регрессии"
   ]
  },
  {
   "cell_type": "code",
   "execution_count": null,
   "metadata": {
    "colab": {
     "base_uri": "https://localhost:8080/"
    },
    "id": "43UuJuvqMEZT",
    "outputId": "c051f51f-e50e-4d5b-ed11-6e5400b04575"
   },
   "outputs": [],
   "source": [
    "best_smape_total = 100\n",
    "\n",
    "for train_index, valid_index in kf.split(df_train_model):\n",
    "    features_train = df_train_scaled.iloc[train_index]\n",
    "    features_valid = df_train_scaled.iloc[valid_index]\n",
    "\n",
    "    target_train = df_train.iloc[train_index][['rougher.output.recovery', 'final.output.recovery']]\n",
    "    target_valid = df_train.iloc[valid_index][['rougher.output.recovery', 'final.output.recovery']]\n",
    "\n",
    "    model = LinearRegression()      \n",
    "    model.fit(features_train, target_train) \n",
    "    predicts = model.predict(features_valid)\n",
    "    predicts_rought = predicts[:,0]\n",
    "    predicts_final = predicts[:,1]\n",
    "\n",
    "    smape_rought = smape(target_valid['rougher.output.recovery'], predicts_rought)\n",
    "\n",
    "    smape_final = smape(target_valid['final.output.recovery'], predicts_final)\n",
    "\n",
    "    total_smape = smape_total (smape_rought, smape_final)\n",
    "\n",
    "    if total_smape > best_smape_total:\n",
    "        best_smape_total = total_smape \n",
    "        \n",
    "\n",
    "print( 'Лучший smape на модели линейной регрессии:', best_smape_total)"
   ]
  },
  {
   "cell_type": "markdown",
   "metadata": {
    "id": "bRBC3lZ1TD7k"
   },
   "source": [
    "Определяю лучший smape на модели случайного леса."
   ]
  },
  {
   "cell_type": "code",
   "execution_count": null,
   "metadata": {
    "colab": {
     "base_uri": "https://localhost:8080/"
    },
    "id": "4B3DSdr6uAPj",
    "outputId": "b4543c37-8ca5-4575-8631-aebcda1c3dcc"
   },
   "outputs": [],
   "source": [
    "best_smape_total = 100\n",
    "best_est = 0\n",
    "best_depth = 0\n",
    "for train_index, valid_index in kf.split(df_train_model):\n",
    "    for est in range(1,15,1):\n",
    "        for depth in range(10,50,1):\n",
    "            features_train = df_train_scaled.iloc[train_index]\n",
    "            features_valid = df_train_scaled.iloc[valid_index]\n",
    "\n",
    "            target_train = df_train.iloc[train_index][['rougher.output.recovery', 'final.output.recovery']]\n",
    "            target_valid = df_train.iloc[valid_index][['rougher.output.recovery', 'final.output.recovery']]\n",
    "\n",
    "            model = RandomForestRegressor(n_estimators = est, max_depth = depth, random_state = RANDOM_STATE)   \n",
    "            model.fit(features_train, target_train) \n",
    "            predicts = model.predict(features_valid)\n",
    "            predicts_rought = predicts[:,0]\n",
    "            predicts_final = predicts[:,1]\n",
    "\n",
    "            smape_rought = smape(target_valid['rougher.output.recovery'], predicts_rought)\n",
    "\n",
    "            smape_final = smape(target_valid['final.output.recovery'], predicts_final)\n",
    "\n",
    "            total_smape = smape_total (smape_rought, smape_final)\n",
    "\n",
    "            if total_smape > best_smape_total:\n",
    "                best_smape_total = total_smape\n",
    "                best_est = est\n",
    "                best_depth = depth  \n",
    "        \n",
    "\n",
    "print( 'Лучший smape на модели случайного леса:', best_smape_total, ', needed depth:', best_depth, ', needed est:', best_est)"
   ]
  },
  {
   "cell_type": "markdown",
   "metadata": {
    "id": "NBJVQBrjTIkD"
   },
   "source": [
    "Проверяю модель на тестовой выборке."
   ]
  },
  {
   "cell_type": "markdown",
   "metadata": {
    "id": "uRqqP3KrDB--"
   },
   "source": [
    "Для удобства добавлю столбцы с целевыми праметрами."
   ]
  },
  {
   "cell_type": "code",
   "execution_count": null,
   "metadata": {
    "id": "yvAr4FHt9JfJ"
   },
   "outputs": [],
   "source": [
    "df_test = df_test.dropna()\n",
    "df_test = df_test.merge(df_full_clear[['rougher.output.recovery', 'final.output.recovery', 'date' ]], on = 'date')\n",
    "df_test = df_test.drop('date',axis=1)\n"
   ]
  },
  {
   "cell_type": "markdown",
   "metadata": {
    "id": "_NSNjkFOQ8KZ"
   },
   "source": [
    "Подготовка двнных для проверки на тестовых данных"
   ]
  },
  {
   "cell_type": "code",
   "execution_count": null,
   "metadata": {
    "id": "ls8kNdWIDRS8"
   },
   "outputs": [],
   "source": [
    "features_test = df_test.drop(['rougher.output.recovery', 'final.output.recovery'], axis=1)\n",
    "target_test = df_test[['rougher.output.recovery','final.output.recovery']]"
   ]
  },
  {
   "cell_type": "code",
   "execution_count": null,
   "metadata": {
    "id": "YY2hHaPRHuZc"
   },
   "outputs": [],
   "source": [
    "features_train = df_train[columns_test]\n",
    "target_train = df_train[['rougher.output.recovery','final.output.recovery']]"
   ]
  },
  {
   "cell_type": "code",
   "execution_count": null,
   "metadata": {
    "colab": {
     "base_uri": "https://localhost:8080/"
    },
    "id": "nu7lrelYTHBD",
    "outputId": "be5444bd-cae1-4807-c916-e4a3c20c6ed8"
   },
   "outputs": [],
   "source": [
    "model = RandomForestRegressor(random_state=RANDOM_STATE, max_depth=best_depth, n_estimators=best_est)\n",
    "\n",
    "model.fit(features_train, target_train) \n",
    "predicts = model.predict(features_test)\n",
    "predicts_rought = predicts[:,0]\n",
    "predicts_final = predicts[:,1]\n",
    "\n",
    "smape_rought = smape(df_test['rougher.output.recovery'], predicts_rought)\n",
    "\n",
    "smape_final = smape(df_test['final.output.recovery'], predicts_final)\n",
    "\n",
    "total_smape = smape_total (smape_rought, smape_final)\n",
    "\n",
    "print('sMAPE =', total_smape)"
   ]
  },
  {
   "cell_type": "markdown",
   "metadata": {
    "id": "VFs7yNCUsbiC"
   },
   "source": [
    "Промежуточные выводы:\n",
    "1. Создана функция для подсчёта sMAPE.\n",
    "2. Обучена модель на тренировчных данных.\n",
    "3. Определена лучшая модель и гиперпараметры.\n",
    "4. Модель проверена на тренировчных данных."
   ]
  },
  {
   "cell_type": "markdown",
   "metadata": {
    "id": "ajIHkfNNshT7"
   },
   "source": [
    "# Выводы"
   ]
  },
  {
   "cell_type": "markdown",
   "metadata": {
    "id": "0eR0x7yorBJj"
   },
   "source": [
    "1. Загруженны данные. В данных обработаны пропуски. \n",
    "2. Вывлено различие в количесвте признаков между тестовой и общей выборкой. Это было учтено при дальнейшей работе и обучении моделей.\n",
    "3. Проверена правильность расчёта эффективности обогащения - расчёты верны.\n",
    "4. Проведен анализ изменения концентрации золота, серебра и свинца на разных этапах в основном концентрате и в \"хвостах\":\n",
    "  - золото - постепенное увеличение; \n",
    "  - серебро - постепенное уменьшение;\n",
    "  - свинец - небольшое увеличение и равенство на заключительных этапах;\n",
    "  - в \"хвостах\" содержание данных элементов увеличивается с последующим снижением к финальной обработке.\n",
    "5. Проанализирован размер гранул в тестовой и обучающей выборке - распределение нормальное, параметры схожи.\n",
    "6. Проанализирован тренд изменения суммарной концентрации всех веществ на всех этапах. Наблюдается после рост флотации с последующим уменьшением.\n",
    "7. Рассмотренно распределение суммарной концентрации веществ на каждом этапе - распределение нормальное. При анализе распределения выявлены и обработаны аномалии.\n",
    "8. Создана функция для подсчета sMAPE необходимая для оценки качества результатов полученных предсказаний.\n",
    "9. На тренировчных данных обучено несколько моделей. Определена лучшая и  наилучшие гиперпараметры. \n",
    "10. Модель проверена на тестовых данных. Показатель sMAPE = 9.88"
   ]
  }
 ],
 "metadata": {
  "ExecuteTimeLog": [
   {
    "duration": 1284,
    "start_time": "2022-06-07T19:22:21.893Z"
   },
   {
    "duration": 134,
    "start_time": "2022-06-07T19:22:23.179Z"
   },
   {
    "duration": 0,
    "start_time": "2022-06-07T19:22:23.317Z"
   },
   {
    "duration": 0,
    "start_time": "2022-06-07T19:22:23.318Z"
   },
   {
    "duration": 0,
    "start_time": "2022-06-07T19:22:23.319Z"
   },
   {
    "duration": 0,
    "start_time": "2022-06-07T19:22:23.328Z"
   },
   {
    "duration": 0,
    "start_time": "2022-06-07T19:22:23.328Z"
   },
   {
    "duration": 0,
    "start_time": "2022-06-07T19:22:23.329Z"
   },
   {
    "duration": 0,
    "start_time": "2022-06-07T19:22:23.330Z"
   },
   {
    "duration": 0,
    "start_time": "2022-06-07T19:22:23.330Z"
   },
   {
    "duration": 0,
    "start_time": "2022-06-07T19:22:23.331Z"
   },
   {
    "duration": 0,
    "start_time": "2022-06-07T19:22:23.334Z"
   },
   {
    "duration": 0,
    "start_time": "2022-06-07T19:22:23.334Z"
   },
   {
    "duration": 0,
    "start_time": "2022-06-07T19:22:23.335Z"
   },
   {
    "duration": 0,
    "start_time": "2022-06-07T19:22:23.336Z"
   },
   {
    "duration": 0,
    "start_time": "2022-06-07T19:22:23.337Z"
   },
   {
    "duration": 0,
    "start_time": "2022-06-07T19:22:23.338Z"
   },
   {
    "duration": 0,
    "start_time": "2022-06-07T19:22:23.339Z"
   },
   {
    "duration": 0,
    "start_time": "2022-06-07T19:22:23.340Z"
   },
   {
    "duration": 0,
    "start_time": "2022-06-07T19:22:23.343Z"
   },
   {
    "duration": 0,
    "start_time": "2022-06-07T19:22:23.344Z"
   },
   {
    "duration": 0,
    "start_time": "2022-06-07T19:22:23.345Z"
   },
   {
    "duration": 0,
    "start_time": "2022-06-07T19:22:23.346Z"
   },
   {
    "duration": 0,
    "start_time": "2022-06-07T19:22:23.347Z"
   },
   {
    "duration": 0,
    "start_time": "2022-06-07T19:22:23.348Z"
   },
   {
    "duration": 0,
    "start_time": "2022-06-07T19:22:23.349Z"
   },
   {
    "duration": 0,
    "start_time": "2022-06-07T19:22:23.350Z"
   },
   {
    "duration": 0,
    "start_time": "2022-06-07T19:22:23.351Z"
   },
   {
    "duration": 0,
    "start_time": "2022-06-07T19:22:23.352Z"
   },
   {
    "duration": 0,
    "start_time": "2022-06-07T19:22:23.352Z"
   },
   {
    "duration": 0,
    "start_time": "2022-06-07T19:22:23.353Z"
   },
   {
    "duration": 0,
    "start_time": "2022-06-07T19:22:23.355Z"
   },
   {
    "duration": 0,
    "start_time": "2022-06-07T19:22:23.356Z"
   },
   {
    "duration": 1,
    "start_time": "2022-06-07T19:22:23.356Z"
   },
   {
    "duration": 0,
    "start_time": "2022-06-07T19:22:23.357Z"
   },
   {
    "duration": 0,
    "start_time": "2022-06-07T19:22:23.358Z"
   },
   {
    "duration": 0,
    "start_time": "2022-06-07T19:22:23.359Z"
   },
   {
    "duration": 0,
    "start_time": "2022-06-07T19:22:23.361Z"
   },
   {
    "duration": 0,
    "start_time": "2022-06-07T19:22:23.362Z"
   },
   {
    "duration": 0,
    "start_time": "2022-06-07T19:22:23.363Z"
   },
   {
    "duration": 0,
    "start_time": "2022-06-07T19:22:23.364Z"
   },
   {
    "duration": 0,
    "start_time": "2022-06-07T19:22:23.364Z"
   },
   {
    "duration": 0,
    "start_time": "2022-06-07T19:22:23.366Z"
   },
   {
    "duration": 0,
    "start_time": "2022-06-07T19:22:23.367Z"
   },
   {
    "duration": 0,
    "start_time": "2022-06-07T19:22:23.367Z"
   },
   {
    "duration": 0,
    "start_time": "2022-06-07T19:22:23.368Z"
   },
   {
    "duration": 0,
    "start_time": "2022-06-07T19:22:23.369Z"
   },
   {
    "duration": 0,
    "start_time": "2022-06-07T19:22:23.370Z"
   },
   {
    "duration": 0,
    "start_time": "2022-06-07T19:22:23.426Z"
   },
   {
    "duration": 0,
    "start_time": "2022-06-07T19:22:23.427Z"
   },
   {
    "duration": 0,
    "start_time": "2022-06-07T19:22:23.428Z"
   },
   {
    "duration": 0,
    "start_time": "2022-06-07T19:22:23.429Z"
   },
   {
    "duration": 34,
    "start_time": "2022-06-07T20:15:24.249Z"
   },
   {
    "duration": 3041,
    "start_time": "2022-06-07T20:16:11.060Z"
   },
   {
    "duration": 1333,
    "start_time": "2022-06-07T20:17:22.354Z"
   },
   {
    "duration": 752,
    "start_time": "2022-06-07T20:17:23.689Z"
   },
   {
    "duration": 3,
    "start_time": "2022-06-07T20:17:24.442Z"
   },
   {
    "duration": 12,
    "start_time": "2022-06-07T20:17:24.446Z"
   },
   {
    "duration": 53,
    "start_time": "2022-06-07T20:17:24.460Z"
   },
   {
    "duration": 28,
    "start_time": "2022-06-07T20:17:24.515Z"
   },
   {
    "duration": 62,
    "start_time": "2022-06-07T20:17:24.545Z"
   },
   {
    "duration": 20,
    "start_time": "2022-06-07T20:17:24.609Z"
   },
   {
    "duration": 35,
    "start_time": "2022-06-07T20:17:24.631Z"
   },
   {
    "duration": 16,
    "start_time": "2022-06-07T20:17:24.668Z"
   },
   {
    "duration": 3,
    "start_time": "2022-06-07T20:17:24.687Z"
   },
   {
    "duration": 36,
    "start_time": "2022-06-07T20:17:24.692Z"
   },
   {
    "duration": 7,
    "start_time": "2022-06-07T20:17:24.730Z"
   },
   {
    "duration": 13,
    "start_time": "2022-06-07T20:17:24.742Z"
   },
   {
    "duration": 32,
    "start_time": "2022-06-07T20:17:24.757Z"
   },
   {
    "duration": 17,
    "start_time": "2022-06-07T20:17:24.791Z"
   },
   {
    "duration": 25,
    "start_time": "2022-06-07T20:17:24.810Z"
   },
   {
    "duration": 573,
    "start_time": "2022-06-07T20:17:24.837Z"
   },
   {
    "duration": 564,
    "start_time": "2022-06-07T20:17:25.411Z"
   },
   {
    "duration": 695,
    "start_time": "2022-06-07T20:17:25.976Z"
   },
   {
    "duration": 11,
    "start_time": "2022-06-07T20:17:26.673Z"
   },
   {
    "duration": 209,
    "start_time": "2022-06-07T20:17:26.685Z"
   },
   {
    "duration": 11,
    "start_time": "2022-06-07T20:17:26.896Z"
   },
   {
    "duration": 220,
    "start_time": "2022-06-07T20:17:26.908Z"
   },
   {
    "duration": 4,
    "start_time": "2022-06-07T20:17:27.130Z"
   },
   {
    "duration": 404,
    "start_time": "2022-06-07T20:17:27.136Z"
   },
   {
    "duration": 385,
    "start_time": "2022-06-07T20:17:27.541Z"
   },
   {
    "duration": 6,
    "start_time": "2022-06-07T20:17:27.928Z"
   },
   {
    "duration": 4,
    "start_time": "2022-06-07T20:17:27.936Z"
   },
   {
    "duration": 11,
    "start_time": "2022-06-07T20:17:27.941Z"
   },
   {
    "duration": 18,
    "start_time": "2022-06-07T20:17:27.953Z"
   },
   {
    "duration": 165,
    "start_time": "2022-06-07T20:17:27.972Z"
   },
   {
    "duration": 311,
    "start_time": "2022-06-07T20:17:28.139Z"
   },
   {
    "duration": 387,
    "start_time": "2022-06-07T20:17:28.452Z"
   },
   {
    "duration": 270,
    "start_time": "2022-06-07T20:17:28.841Z"
   },
   {
    "duration": 277,
    "start_time": "2022-06-07T20:17:29.113Z"
   },
   {
    "duration": 7,
    "start_time": "2022-06-07T20:17:29.392Z"
   },
   {
    "duration": 32,
    "start_time": "2022-06-07T20:17:29.402Z"
   },
   {
    "duration": 15,
    "start_time": "2022-06-07T20:17:29.435Z"
   },
   {
    "duration": 46,
    "start_time": "2022-06-07T20:17:29.452Z"
   },
   {
    "duration": 4,
    "start_time": "2022-06-07T20:17:29.501Z"
   },
   {
    "duration": 18,
    "start_time": "2022-06-07T20:17:29.507Z"
   },
   {
    "duration": 11,
    "start_time": "2022-06-07T20:17:29.527Z"
   },
   {
    "duration": 7,
    "start_time": "2022-06-07T20:17:29.540Z"
   },
   {
    "duration": 18,
    "start_time": "2022-06-07T20:17:29.549Z"
   },
   {
    "duration": 6,
    "start_time": "2022-06-07T20:17:29.569Z"
   },
   {
    "duration": 5,
    "start_time": "2022-06-07T20:17:29.576Z"
   },
   {
    "duration": 948,
    "start_time": "2022-06-07T20:17:29.583Z"
   },
   {
    "duration": 503,
    "start_time": "2022-06-07T20:17:30.534Z"
   },
   {
    "duration": 0,
    "start_time": "2022-06-07T20:17:31.038Z"
   },
   {
    "duration": 0,
    "start_time": "2022-06-07T20:17:31.040Z"
   },
   {
    "duration": 0,
    "start_time": "2022-06-07T20:17:31.041Z"
   },
   {
    "duration": 0,
    "start_time": "2022-06-07T20:17:31.042Z"
   },
   {
    "duration": 4,
    "start_time": "2022-06-07T20:27:35.808Z"
   },
   {
    "duration": 704,
    "start_time": "2022-06-07T20:27:35.815Z"
   },
   {
    "duration": 3,
    "start_time": "2022-06-07T20:27:36.521Z"
   },
   {
    "duration": 11,
    "start_time": "2022-06-07T20:27:36.526Z"
   },
   {
    "duration": 42,
    "start_time": "2022-06-07T20:27:36.539Z"
   },
   {
    "duration": 18,
    "start_time": "2022-06-07T20:27:36.584Z"
   },
   {
    "duration": 41,
    "start_time": "2022-06-07T20:27:36.603Z"
   },
   {
    "duration": 20,
    "start_time": "2022-06-07T20:27:36.646Z"
   },
   {
    "duration": 28,
    "start_time": "2022-06-07T20:27:36.669Z"
   },
   {
    "duration": 35,
    "start_time": "2022-06-07T20:27:36.700Z"
   },
   {
    "duration": 3,
    "start_time": "2022-06-07T20:27:36.737Z"
   },
   {
    "duration": 10,
    "start_time": "2022-06-07T20:27:36.742Z"
   },
   {
    "duration": 8,
    "start_time": "2022-06-07T20:27:36.754Z"
   },
   {
    "duration": 7,
    "start_time": "2022-06-07T20:27:36.764Z"
   },
   {
    "duration": 4,
    "start_time": "2022-06-07T20:27:49.206Z"
   },
   {
    "duration": 14,
    "start_time": "2022-06-07T20:28:05.288Z"
   },
   {
    "duration": 8,
    "start_time": "2022-06-07T20:28:11.670Z"
   },
   {
    "duration": 5,
    "start_time": "2022-06-07T20:28:16.411Z"
   },
   {
    "duration": 420,
    "start_time": "2022-06-07T20:28:23.251Z"
   },
   {
    "duration": 9,
    "start_time": "2022-06-07T20:29:09.468Z"
   },
   {
    "duration": 4,
    "start_time": "2022-06-07T20:29:20.216Z"
   },
   {
    "duration": 689,
    "start_time": "2022-06-07T20:29:20.221Z"
   },
   {
    "duration": 3,
    "start_time": "2022-06-07T20:29:20.912Z"
   },
   {
    "duration": 4,
    "start_time": "2022-06-07T20:29:20.917Z"
   },
   {
    "duration": 30,
    "start_time": "2022-06-07T20:29:20.923Z"
   },
   {
    "duration": 16,
    "start_time": "2022-06-07T20:29:20.955Z"
   },
   {
    "duration": 26,
    "start_time": "2022-06-07T20:29:20.973Z"
   },
   {
    "duration": 37,
    "start_time": "2022-06-07T20:29:21.001Z"
   },
   {
    "duration": 27,
    "start_time": "2022-06-07T20:29:21.040Z"
   },
   {
    "duration": 13,
    "start_time": "2022-06-07T20:29:21.068Z"
   },
   {
    "duration": 3,
    "start_time": "2022-06-07T20:29:21.083Z"
   },
   {
    "duration": 8,
    "start_time": "2022-06-07T20:29:21.087Z"
   },
   {
    "duration": 33,
    "start_time": "2022-06-07T20:29:21.096Z"
   },
   {
    "duration": 5,
    "start_time": "2022-06-07T20:29:21.131Z"
   },
   {
    "duration": 5,
    "start_time": "2022-06-07T20:34:20.089Z"
   },
   {
    "duration": 5,
    "start_time": "2022-06-07T20:34:35.677Z"
   },
   {
    "duration": 5,
    "start_time": "2022-06-07T20:38:40.851Z"
   },
   {
    "duration": 5,
    "start_time": "2022-06-07T20:38:47.597Z"
   },
   {
    "duration": 4,
    "start_time": "2022-06-07T20:39:36.080Z"
   },
   {
    "duration": 5,
    "start_time": "2022-06-07T20:45:13.113Z"
   },
   {
    "duration": 6,
    "start_time": "2022-06-07T20:45:33.331Z"
   },
   {
    "duration": 5,
    "start_time": "2022-06-07T20:50:05.621Z"
   },
   {
    "duration": 5,
    "start_time": "2022-06-07T20:50:15.924Z"
   },
   {
    "duration": 5,
    "start_time": "2022-06-07T20:50:29.613Z"
   },
   {
    "duration": 2996,
    "start_time": "2022-06-07T20:51:59.350Z"
   },
   {
    "duration": 4,
    "start_time": "2022-06-07T20:55:17.066Z"
   },
   {
    "duration": 4,
    "start_time": "2022-06-07T20:55:20.781Z"
   },
   {
    "duration": 768,
    "start_time": "2022-06-07T20:55:20.790Z"
   },
   {
    "duration": 4,
    "start_time": "2022-06-07T20:55:21.560Z"
   },
   {
    "duration": 14,
    "start_time": "2022-06-07T20:55:21.566Z"
   },
   {
    "duration": 64,
    "start_time": "2022-06-07T20:55:21.582Z"
   },
   {
    "duration": 21,
    "start_time": "2022-06-07T20:55:21.649Z"
   },
   {
    "duration": 29,
    "start_time": "2022-06-07T20:55:21.672Z"
   },
   {
    "duration": 39,
    "start_time": "2022-06-07T20:55:21.703Z"
   },
   {
    "duration": 27,
    "start_time": "2022-06-07T20:55:21.744Z"
   },
   {
    "duration": 13,
    "start_time": "2022-06-07T20:55:21.774Z"
   },
   {
    "duration": 3,
    "start_time": "2022-06-07T20:55:21.789Z"
   },
   {
    "duration": 34,
    "start_time": "2022-06-07T20:55:21.793Z"
   },
   {
    "duration": 18,
    "start_time": "2022-06-07T20:55:21.829Z"
   },
   {
    "duration": 5,
    "start_time": "2022-06-07T20:55:21.849Z"
   },
   {
    "duration": 10,
    "start_time": "2022-06-07T20:55:21.856Z"
   },
   {
    "duration": 16,
    "start_time": "2022-06-07T20:55:21.867Z"
   },
   {
    "duration": 26,
    "start_time": "2022-06-07T20:55:21.884Z"
   },
   {
    "duration": 28,
    "start_time": "2022-06-07T20:55:21.912Z"
   },
   {
    "duration": 16,
    "start_time": "2022-06-07T20:55:21.942Z"
   },
   {
    "duration": 4,
    "start_time": "2022-06-07T20:55:21.960Z"
   },
   {
    "duration": 746,
    "start_time": "2022-06-07T20:55:21.965Z"
   },
   {
    "duration": 597,
    "start_time": "2022-06-07T20:55:22.713Z"
   },
   {
    "duration": 575,
    "start_time": "2022-06-07T20:55:23.312Z"
   },
   {
    "duration": 11,
    "start_time": "2022-06-07T20:55:23.889Z"
   },
   {
    "duration": 204,
    "start_time": "2022-06-07T20:55:23.902Z"
   },
   {
    "duration": 22,
    "start_time": "2022-06-07T20:55:24.108Z"
   },
   {
    "duration": 213,
    "start_time": "2022-06-07T20:55:24.131Z"
   },
   {
    "duration": 2716,
    "start_time": "2022-06-07T20:55:24.347Z"
   },
   {
    "duration": 4,
    "start_time": "2022-06-07T20:55:27.065Z"
   },
   {
    "duration": 391,
    "start_time": "2022-06-07T20:55:27.070Z"
   },
   {
    "duration": 395,
    "start_time": "2022-06-07T20:55:27.463Z"
   },
   {
    "duration": 6,
    "start_time": "2022-06-07T20:55:27.859Z"
   },
   {
    "duration": 11,
    "start_time": "2022-06-07T20:55:27.866Z"
   },
   {
    "duration": 14,
    "start_time": "2022-06-07T20:55:27.879Z"
   },
   {
    "duration": 4,
    "start_time": "2022-06-07T20:55:27.895Z"
   },
   {
    "duration": 5,
    "start_time": "2022-06-07T20:55:45.813Z"
   },
   {
    "duration": 5,
    "start_time": "2022-06-07T20:55:52.862Z"
   },
   {
    "duration": 20,
    "start_time": "2022-06-07T21:07:08.188Z"
   },
   {
    "duration": 19,
    "start_time": "2022-06-07T21:07:13.338Z"
   },
   {
    "duration": 0,
    "start_time": "2022-06-07T21:07:13.359Z"
   },
   {
    "duration": 0,
    "start_time": "2022-06-07T21:07:13.360Z"
   },
   {
    "duration": 0,
    "start_time": "2022-06-07T21:07:13.361Z"
   },
   {
    "duration": 1155,
    "start_time": "2022-06-07T21:07:24.976Z"
   },
   {
    "duration": 706,
    "start_time": "2022-06-07T21:07:26.132Z"
   },
   {
    "duration": 2,
    "start_time": "2022-06-07T21:07:26.840Z"
   },
   {
    "duration": 25,
    "start_time": "2022-06-07T21:07:26.844Z"
   },
   {
    "duration": 64,
    "start_time": "2022-06-07T21:07:26.870Z"
   },
   {
    "duration": 17,
    "start_time": "2022-06-07T21:07:26.936Z"
   },
   {
    "duration": 31,
    "start_time": "2022-06-07T21:07:26.954Z"
   },
   {
    "duration": 15,
    "start_time": "2022-06-07T21:07:26.986Z"
   },
   {
    "duration": 45,
    "start_time": "2022-06-07T21:07:27.002Z"
   },
   {
    "duration": 12,
    "start_time": "2022-06-07T21:07:27.049Z"
   },
   {
    "duration": 15,
    "start_time": "2022-06-07T21:07:27.063Z"
   },
   {
    "duration": 26,
    "start_time": "2022-06-07T21:07:27.080Z"
   },
   {
    "duration": 19,
    "start_time": "2022-06-07T21:07:27.108Z"
   },
   {
    "duration": 30,
    "start_time": "2022-06-07T21:07:27.129Z"
   },
   {
    "duration": 27,
    "start_time": "2022-06-07T21:07:27.160Z"
   },
   {
    "duration": 20,
    "start_time": "2022-06-07T21:07:27.189Z"
   },
   {
    "duration": 49,
    "start_time": "2022-06-07T21:07:27.211Z"
   },
   {
    "duration": 16,
    "start_time": "2022-06-07T21:07:27.262Z"
   },
   {
    "duration": 22,
    "start_time": "2022-06-07T21:07:27.279Z"
   },
   {
    "duration": 13,
    "start_time": "2022-06-07T21:07:27.303Z"
   },
   {
    "duration": 579,
    "start_time": "2022-06-07T21:07:27.317Z"
   },
   {
    "duration": 556,
    "start_time": "2022-06-07T21:07:27.898Z"
   },
   {
    "duration": 678,
    "start_time": "2022-06-07T21:07:28.456Z"
   },
   {
    "duration": 11,
    "start_time": "2022-06-07T21:07:29.136Z"
   },
   {
    "duration": 200,
    "start_time": "2022-06-07T21:07:29.148Z"
   },
   {
    "duration": 10,
    "start_time": "2022-06-07T21:07:29.350Z"
   },
   {
    "duration": 233,
    "start_time": "2022-06-07T21:07:29.361Z"
   },
   {
    "duration": 2602,
    "start_time": "2022-06-07T21:07:29.597Z"
   },
   {
    "duration": 5,
    "start_time": "2022-06-07T21:07:32.200Z"
   },
   {
    "duration": 380,
    "start_time": "2022-06-07T21:07:32.206Z"
   },
   {
    "duration": 375,
    "start_time": "2022-06-07T21:07:32.588Z"
   },
   {
    "duration": 5,
    "start_time": "2022-06-07T21:07:32.965Z"
   },
   {
    "duration": 9,
    "start_time": "2022-06-07T21:07:32.972Z"
   },
   {
    "duration": 12,
    "start_time": "2022-06-07T21:07:32.982Z"
   },
   {
    "duration": 18,
    "start_time": "2022-06-07T21:07:32.996Z"
   },
   {
    "duration": 24,
    "start_time": "2022-06-07T21:07:33.016Z"
   },
   {
    "duration": 284,
    "start_time": "2022-06-07T21:07:33.042Z"
   },
   {
    "duration": 286,
    "start_time": "2022-06-07T21:07:33.328Z"
   },
   {
    "duration": 269,
    "start_time": "2022-06-07T21:07:33.615Z"
   },
   {
    "duration": 268,
    "start_time": "2022-06-07T21:07:33.886Z"
   },
   {
    "duration": 275,
    "start_time": "2022-06-07T21:07:34.155Z"
   },
   {
    "duration": 6,
    "start_time": "2022-06-07T21:07:34.432Z"
   },
   {
    "duration": 12,
    "start_time": "2022-06-07T21:07:34.440Z"
   },
   {
    "duration": 8,
    "start_time": "2022-06-07T21:07:34.454Z"
   },
   {
    "duration": 62,
    "start_time": "2022-06-07T21:07:34.464Z"
   },
   {
    "duration": 3,
    "start_time": "2022-06-07T21:07:34.528Z"
   },
   {
    "duration": 10,
    "start_time": "2022-06-07T21:07:34.533Z"
   },
   {
    "duration": 8,
    "start_time": "2022-06-07T21:07:34.544Z"
   },
   {
    "duration": 6,
    "start_time": "2022-06-07T21:07:34.554Z"
   },
   {
    "duration": 4,
    "start_time": "2022-06-07T21:07:34.561Z"
   },
   {
    "duration": 6,
    "start_time": "2022-06-07T21:07:34.567Z"
   },
   {
    "duration": 5,
    "start_time": "2022-06-07T21:07:34.574Z"
   },
   {
    "duration": 948,
    "start_time": "2022-06-07T21:07:34.580Z"
   },
   {
    "duration": 498,
    "start_time": "2022-06-07T21:07:35.532Z"
   },
   {
    "duration": 0,
    "start_time": "2022-06-07T21:07:36.031Z"
   },
   {
    "duration": 0,
    "start_time": "2022-06-07T21:07:36.032Z"
   },
   {
    "duration": 0,
    "start_time": "2022-06-07T21:07:36.033Z"
   },
   {
    "duration": 0,
    "start_time": "2022-06-07T21:07:36.034Z"
   },
   {
    "duration": 272,
    "start_time": "2022-06-07T21:14:16.362Z"
   },
   {
    "duration": 116030,
    "start_time": "2022-06-07T21:14:37.307Z"
   },
   {
    "duration": 200,
    "start_time": "2022-06-07T21:16:39.728Z"
   },
   {
    "duration": 6,
    "start_time": "2022-06-07T21:19:31.153Z"
   },
   {
    "duration": 6,
    "start_time": "2022-06-07T21:20:54.665Z"
   },
   {
    "duration": 19,
    "start_time": "2022-06-07T21:20:54.673Z"
   },
   {
    "duration": 4,
    "start_time": "2022-06-07T21:20:54.694Z"
   },
   {
    "duration": 13,
    "start_time": "2022-06-07T21:20:54.700Z"
   },
   {
    "duration": 24,
    "start_time": "2022-06-07T21:20:54.715Z"
   },
   {
    "duration": 87,
    "start_time": "2022-06-07T21:21:51.627Z"
   },
   {
    "duration": 179,
    "start_time": "2022-06-08T04:26:49.278Z"
   },
   {
    "duration": 1377,
    "start_time": "2022-06-08T04:27:03.705Z"
   },
   {
    "duration": 121,
    "start_time": "2022-06-08T04:27:09.273Z"
   },
   {
    "duration": 2830,
    "start_time": "2022-06-08T04:27:41.709Z"
   },
   {
    "duration": 21,
    "start_time": "2022-06-08T04:29:41.124Z"
   },
   {
    "duration": 800,
    "start_time": "2022-06-08T04:29:56.929Z"
   },
   {
    "duration": 3,
    "start_time": "2022-06-08T04:30:00.903Z"
   },
   {
    "duration": 40,
    "start_time": "2022-06-08T04:30:01.939Z"
   },
   {
    "duration": 30,
    "start_time": "2022-06-08T04:30:02.240Z"
   },
   {
    "duration": 45,
    "start_time": "2022-06-08T04:30:02.480Z"
   },
   {
    "duration": 24,
    "start_time": "2022-06-08T04:30:02.760Z"
   },
   {
    "duration": 41,
    "start_time": "2022-06-08T04:30:03.113Z"
   },
   {
    "duration": 12,
    "start_time": "2022-06-08T04:30:03.664Z"
   },
   {
    "duration": 3,
    "start_time": "2022-06-08T04:30:05.385Z"
   },
   {
    "duration": 33,
    "start_time": "2022-06-08T04:30:06.374Z"
   },
   {
    "duration": 8,
    "start_time": "2022-06-08T04:30:07.138Z"
   },
   {
    "duration": 5,
    "start_time": "2022-06-08T04:30:11.110Z"
   },
   {
    "duration": 5,
    "start_time": "2022-06-08T04:30:18.705Z"
   },
   {
    "duration": 8,
    "start_time": "2022-06-08T04:30:22.816Z"
   },
   {
    "duration": 8,
    "start_time": "2022-06-08T04:30:46.012Z"
   },
   {
    "duration": 23,
    "start_time": "2022-06-08T04:30:52.988Z"
   },
   {
    "duration": 18,
    "start_time": "2022-06-08T04:36:05.725Z"
   },
   {
    "duration": 15,
    "start_time": "2022-06-08T04:36:08.032Z"
   },
   {
    "duration": 3,
    "start_time": "2022-06-08T04:40:35.870Z"
   },
   {
    "duration": 31,
    "start_time": "2022-06-08T04:41:13.725Z"
   },
   {
    "duration": 10,
    "start_time": "2022-06-08T04:42:46.079Z"
   },
   {
    "duration": 9,
    "start_time": "2022-06-08T04:42:53.391Z"
   },
   {
    "duration": 24,
    "start_time": "2022-06-08T04:43:39.783Z"
   },
   {
    "duration": 10,
    "start_time": "2022-06-08T04:44:35.078Z"
   },
   {
    "duration": 39,
    "start_time": "2022-06-08T04:44:39.225Z"
   },
   {
    "duration": 4,
    "start_time": "2022-06-08T04:44:51.757Z"
   },
   {
    "duration": 4,
    "start_time": "2022-06-08T04:46:01.310Z"
   },
   {
    "duration": 4,
    "start_time": "2022-06-08T04:46:02.493Z"
   },
   {
    "duration": 4,
    "start_time": "2022-06-08T04:46:14.014Z"
   },
   {
    "duration": 10,
    "start_time": "2022-06-08T04:46:22.299Z"
   },
   {
    "duration": 4,
    "start_time": "2022-06-08T04:46:23.147Z"
   },
   {
    "duration": 1287,
    "start_time": "2022-06-08T04:46:44.976Z"
   },
   {
    "duration": 653,
    "start_time": "2022-06-08T04:46:46.264Z"
   },
   {
    "duration": 2,
    "start_time": "2022-06-08T04:46:46.919Z"
   },
   {
    "duration": 45,
    "start_time": "2022-06-08T04:46:46.923Z"
   },
   {
    "duration": 16,
    "start_time": "2022-06-08T04:46:46.970Z"
   },
   {
    "duration": 26,
    "start_time": "2022-06-08T04:46:46.987Z"
   },
   {
    "duration": 49,
    "start_time": "2022-06-08T04:46:47.014Z"
   },
   {
    "duration": 26,
    "start_time": "2022-06-08T04:46:47.065Z"
   },
   {
    "duration": 13,
    "start_time": "2022-06-08T04:46:47.093Z"
   },
   {
    "duration": 4,
    "start_time": "2022-06-08T04:46:47.109Z"
   },
   {
    "duration": 27,
    "start_time": "2022-06-08T04:46:47.114Z"
   },
   {
    "duration": 8,
    "start_time": "2022-06-08T04:46:47.159Z"
   },
   {
    "duration": 12,
    "start_time": "2022-06-08T04:46:47.169Z"
   },
   {
    "duration": 14,
    "start_time": "2022-06-08T04:46:47.184Z"
   },
   {
    "duration": 11,
    "start_time": "2022-06-08T04:46:47.200Z"
   },
   {
    "duration": 33,
    "start_time": "2022-06-08T04:46:47.213Z"
   },
   {
    "duration": 28,
    "start_time": "2022-06-08T04:46:47.249Z"
   },
   {
    "duration": 22,
    "start_time": "2022-06-08T04:46:47.280Z"
   },
   {
    "duration": 60,
    "start_time": "2022-06-08T04:46:47.304Z"
   },
   {
    "duration": 11,
    "start_time": "2022-06-08T04:46:47.366Z"
   },
   {
    "duration": 13,
    "start_time": "2022-06-08T04:46:47.379Z"
   },
   {
    "duration": 17,
    "start_time": "2022-06-08T04:46:47.394Z"
   },
   {
    "duration": 568,
    "start_time": "2022-06-08T04:46:47.412Z"
   },
   {
    "duration": 542,
    "start_time": "2022-06-08T04:46:47.981Z"
   },
   {
    "duration": 696,
    "start_time": "2022-06-08T04:46:48.524Z"
   },
   {
    "duration": 11,
    "start_time": "2022-06-08T04:46:49.221Z"
   },
   {
    "duration": 214,
    "start_time": "2022-06-08T04:46:49.234Z"
   },
   {
    "duration": 18,
    "start_time": "2022-06-08T04:46:49.452Z"
   },
   {
    "duration": 227,
    "start_time": "2022-06-08T04:46:49.472Z"
   },
   {
    "duration": 2491,
    "start_time": "2022-06-08T04:46:49.700Z"
   },
   {
    "duration": 6,
    "start_time": "2022-06-08T04:46:52.193Z"
   },
   {
    "duration": 402,
    "start_time": "2022-06-08T04:46:52.201Z"
   },
   {
    "duration": 694,
    "start_time": "2022-06-08T04:46:52.606Z"
   },
   {
    "duration": 6,
    "start_time": "2022-06-08T04:46:53.301Z"
   },
   {
    "duration": 3,
    "start_time": "2022-06-08T04:46:53.360Z"
   },
   {
    "duration": 19,
    "start_time": "2022-06-08T04:46:53.365Z"
   },
   {
    "duration": 12,
    "start_time": "2022-06-08T04:46:53.386Z"
   },
   {
    "duration": 59,
    "start_time": "2022-06-08T04:46:53.400Z"
   },
   {
    "duration": 346,
    "start_time": "2022-06-08T04:46:53.461Z"
   },
   {
    "duration": 353,
    "start_time": "2022-06-08T04:46:53.809Z"
   },
   {
    "duration": 261,
    "start_time": "2022-06-08T04:46:54.164Z"
   },
   {
    "duration": 260,
    "start_time": "2022-06-08T04:46:54.426Z"
   },
   {
    "duration": 274,
    "start_time": "2022-06-08T04:46:54.688Z"
   },
   {
    "duration": 7,
    "start_time": "2022-06-08T04:46:54.964Z"
   },
   {
    "duration": 26,
    "start_time": "2022-06-08T04:46:54.972Z"
   },
   {
    "duration": 15,
    "start_time": "2022-06-08T04:46:54.999Z"
   },
   {
    "duration": 66,
    "start_time": "2022-06-08T04:46:55.016Z"
   },
   {
    "duration": 9,
    "start_time": "2022-06-08T04:46:55.084Z"
   },
   {
    "duration": 20,
    "start_time": "2022-06-08T04:46:55.095Z"
   },
   {
    "duration": 30,
    "start_time": "2022-06-08T04:46:55.117Z"
   },
   {
    "duration": 23,
    "start_time": "2022-06-08T04:46:55.149Z"
   },
   {
    "duration": 33,
    "start_time": "2022-06-08T04:46:55.174Z"
   },
   {
    "duration": 15,
    "start_time": "2022-06-08T04:46:55.209Z"
   },
   {
    "duration": 25,
    "start_time": "2022-06-08T04:46:55.225Z"
   },
   {
    "duration": 1018,
    "start_time": "2022-06-08T04:46:55.253Z"
   },
   {
    "duration": 496,
    "start_time": "2022-06-08T04:46:56.273Z"
   },
   {
    "duration": 0,
    "start_time": "2022-06-08T04:46:56.772Z"
   },
   {
    "duration": 0,
    "start_time": "2022-06-08T04:46:56.773Z"
   },
   {
    "duration": 0,
    "start_time": "2022-06-08T04:46:56.775Z"
   },
   {
    "duration": 0,
    "start_time": "2022-06-08T04:46:56.777Z"
   },
   {
    "duration": 0,
    "start_time": "2022-06-08T04:46:56.778Z"
   },
   {
    "duration": 24,
    "start_time": "2022-06-08T04:47:27.359Z"
   },
   {
    "duration": 117,
    "start_time": "2022-06-08T04:48:00.892Z"
   },
   {
    "duration": 19,
    "start_time": "2022-06-08T04:48:35.276Z"
   },
   {
    "duration": 5,
    "start_time": "2022-06-08T04:48:58.477Z"
   },
   {
    "duration": 5,
    "start_time": "2022-06-08T04:49:07.114Z"
   },
   {
    "duration": 5,
    "start_time": "2022-06-08T04:49:28.779Z"
   },
   {
    "duration": 119,
    "start_time": "2022-06-08T04:50:25.339Z"
   },
   {
    "duration": 119,
    "start_time": "2022-06-08T04:50:30.677Z"
   },
   {
    "duration": 32,
    "start_time": "2022-06-08T04:50:53.950Z"
   },
   {
    "duration": 114,
    "start_time": "2022-06-08T04:51:02.157Z"
   },
   {
    "duration": 5,
    "start_time": "2022-06-08T04:51:46.380Z"
   },
   {
    "duration": 281,
    "start_time": "2022-06-08T05:42:53.333Z"
   },
   {
    "duration": 263,
    "start_time": "2022-06-08T05:44:18.818Z"
   },
   {
    "duration": 308,
    "start_time": "2022-06-08T05:44:26.898Z"
   },
   {
    "duration": 175,
    "start_time": "2022-06-08T05:44:37.820Z"
   },
   {
    "duration": 282,
    "start_time": "2022-06-08T05:48:02.008Z"
   },
   {
    "duration": 27,
    "start_time": "2022-06-08T05:48:14.196Z"
   },
   {
    "duration": 359,
    "start_time": "2022-06-08T05:48:21.714Z"
   },
   {
    "duration": 255,
    "start_time": "2022-06-08T05:48:30.106Z"
   },
   {
    "duration": 251,
    "start_time": "2022-06-08T05:48:42.307Z"
   },
   {
    "duration": 271,
    "start_time": "2022-06-08T05:48:53.770Z"
   },
   {
    "duration": 254,
    "start_time": "2022-06-08T05:49:52.051Z"
   },
   {
    "duration": 402,
    "start_time": "2022-06-08T05:50:02.457Z"
   },
   {
    "duration": 10,
    "start_time": "2022-06-08T05:50:12.346Z"
   },
   {
    "duration": 296,
    "start_time": "2022-06-08T05:50:16.841Z"
   },
   {
    "duration": 329,
    "start_time": "2022-06-08T05:50:26.881Z"
   },
   {
    "duration": 313,
    "start_time": "2022-06-08T05:50:44.328Z"
   },
   {
    "duration": 319,
    "start_time": "2022-06-08T05:50:50.921Z"
   },
   {
    "duration": 1503,
    "start_time": "2022-06-08T09:40:37.051Z"
   },
   {
    "duration": 1831,
    "start_time": "2022-06-08T09:40:38.556Z"
   },
   {
    "duration": 3,
    "start_time": "2022-06-08T09:40:40.389Z"
   },
   {
    "duration": 40,
    "start_time": "2022-06-08T09:40:40.394Z"
   },
   {
    "duration": 25,
    "start_time": "2022-06-08T09:40:40.435Z"
   },
   {
    "duration": 27,
    "start_time": "2022-06-08T09:40:40.463Z"
   },
   {
    "duration": 16,
    "start_time": "2022-06-08T09:40:40.492Z"
   },
   {
    "duration": 41,
    "start_time": "2022-06-08T09:40:40.510Z"
   },
   {
    "duration": 15,
    "start_time": "2022-06-08T09:40:40.553Z"
   },
   {
    "duration": 3,
    "start_time": "2022-06-08T09:40:40.571Z"
   },
   {
    "duration": 9,
    "start_time": "2022-06-08T09:40:40.575Z"
   },
   {
    "duration": 5,
    "start_time": "2022-06-08T09:40:40.585Z"
   },
   {
    "duration": 8,
    "start_time": "2022-06-08T09:40:40.591Z"
   },
   {
    "duration": 10,
    "start_time": "2022-06-08T09:40:40.601Z"
   },
   {
    "duration": 7,
    "start_time": "2022-06-08T09:40:40.641Z"
   },
   {
    "duration": 28,
    "start_time": "2022-06-08T09:40:40.649Z"
   },
   {
    "duration": 18,
    "start_time": "2022-06-08T09:40:40.679Z"
   },
   {
    "duration": 44,
    "start_time": "2022-06-08T09:40:40.699Z"
   },
   {
    "duration": 29,
    "start_time": "2022-06-08T09:40:40.744Z"
   },
   {
    "duration": 13,
    "start_time": "2022-06-08T09:40:40.775Z"
   },
   {
    "duration": 30,
    "start_time": "2022-06-08T09:40:40.790Z"
   },
   {
    "duration": 128,
    "start_time": "2022-06-08T09:40:40.821Z"
   },
   {
    "duration": 24,
    "start_time": "2022-06-08T09:40:40.950Z"
   },
   {
    "duration": 108,
    "start_time": "2022-06-08T09:40:40.975Z"
   },
   {
    "duration": 4,
    "start_time": "2022-06-08T09:40:41.085Z"
   },
   {
    "duration": 355,
    "start_time": "2022-06-08T09:40:41.090Z"
   },
   {
    "duration": 347,
    "start_time": "2022-06-08T09:40:41.446Z"
   },
   {
    "duration": 342,
    "start_time": "2022-06-08T09:40:41.797Z"
   },
   {
    "duration": 12,
    "start_time": "2022-06-08T09:40:42.141Z"
   },
   {
    "duration": 209,
    "start_time": "2022-06-08T09:40:42.154Z"
   },
   {
    "duration": 11,
    "start_time": "2022-06-08T09:40:42.365Z"
   },
   {
    "duration": 234,
    "start_time": "2022-06-08T09:40:42.378Z"
   },
   {
    "duration": 2917,
    "start_time": "2022-06-08T09:40:42.614Z"
   },
   {
    "duration": 11,
    "start_time": "2022-06-08T09:40:45.533Z"
   },
   {
    "duration": 436,
    "start_time": "2022-06-08T09:40:45.546Z"
   },
   {
    "duration": 431,
    "start_time": "2022-06-08T09:40:45.984Z"
   },
   {
    "duration": 5,
    "start_time": "2022-06-08T09:40:46.416Z"
   },
   {
    "duration": 7,
    "start_time": "2022-06-08T09:40:46.423Z"
   },
   {
    "duration": 16,
    "start_time": "2022-06-08T09:40:46.432Z"
   },
   {
    "duration": 6,
    "start_time": "2022-06-08T09:40:46.449Z"
   },
   {
    "duration": 19,
    "start_time": "2022-06-08T09:40:46.457Z"
   },
   {
    "duration": 157,
    "start_time": "2022-06-08T09:40:46.478Z"
   },
   {
    "duration": 354,
    "start_time": "2022-06-08T09:40:46.637Z"
   },
   {
    "duration": 530,
    "start_time": "2022-06-08T09:40:46.993Z"
   },
   {
    "duration": 282,
    "start_time": "2022-06-08T09:40:47.525Z"
   },
   {
    "duration": 302,
    "start_time": "2022-06-08T09:40:47.809Z"
   },
   {
    "duration": 7,
    "start_time": "2022-06-08T09:40:48.113Z"
   },
   {
    "duration": 29,
    "start_time": "2022-06-08T09:40:48.122Z"
   },
   {
    "duration": 9,
    "start_time": "2022-06-08T09:40:48.152Z"
   },
   {
    "duration": 48,
    "start_time": "2022-06-08T09:40:48.163Z"
   },
   {
    "duration": 4,
    "start_time": "2022-06-08T09:40:48.213Z"
   },
   {
    "duration": 27,
    "start_time": "2022-06-08T09:40:48.219Z"
   },
   {
    "duration": 6,
    "start_time": "2022-06-08T09:40:48.248Z"
   },
   {
    "duration": 6,
    "start_time": "2022-06-08T09:40:48.256Z"
   },
   {
    "duration": 12,
    "start_time": "2022-06-08T09:40:48.263Z"
   },
   {
    "duration": 6,
    "start_time": "2022-06-08T09:40:48.277Z"
   },
   {
    "duration": 27,
    "start_time": "2022-06-08T09:40:48.285Z"
   },
   {
    "duration": 930,
    "start_time": "2022-06-08T09:40:48.314Z"
   },
   {
    "duration": 402,
    "start_time": "2022-06-08T09:40:49.246Z"
   },
   {
    "duration": 0,
    "start_time": "2022-06-08T09:40:49.649Z"
   },
   {
    "duration": 0,
    "start_time": "2022-06-08T09:40:49.650Z"
   },
   {
    "duration": 0,
    "start_time": "2022-06-08T09:40:49.651Z"
   },
   {
    "duration": 0,
    "start_time": "2022-06-08T09:40:49.652Z"
   },
   {
    "duration": 0,
    "start_time": "2022-06-08T09:40:49.653Z"
   },
   {
    "duration": 238,
    "start_time": "2022-06-08T09:41:47.784Z"
   },
   {
    "duration": 292,
    "start_time": "2022-06-08T09:42:12.129Z"
   },
   {
    "duration": 235,
    "start_time": "2022-06-08T09:42:26.277Z"
   },
   {
    "duration": 453,
    "start_time": "2022-06-08T09:42:36.540Z"
   },
   {
    "duration": 15,
    "start_time": "2022-06-08T09:43:59.766Z"
   },
   {
    "duration": 341,
    "start_time": "2022-06-08T09:44:06.585Z"
   },
   {
    "duration": 245,
    "start_time": "2022-06-08T09:44:18.896Z"
   },
   {
    "duration": 236,
    "start_time": "2022-06-08T09:44:31.430Z"
   },
   {
    "duration": 249,
    "start_time": "2022-06-08T09:44:47.230Z"
   },
   {
    "duration": 253,
    "start_time": "2022-06-08T09:45:12.083Z"
   },
   {
    "duration": 427,
    "start_time": "2022-06-08T09:46:17.049Z"
   },
   {
    "duration": 322,
    "start_time": "2022-06-08T09:46:37.829Z"
   },
   {
    "duration": 292,
    "start_time": "2022-06-08T09:46:49.454Z"
   },
   {
    "duration": 295,
    "start_time": "2022-06-08T09:47:18.828Z"
   },
   {
    "duration": 312,
    "start_time": "2022-06-08T09:47:30.930Z"
   },
   {
    "duration": 455,
    "start_time": "2022-06-08T09:48:10.821Z"
   },
   {
    "duration": 279,
    "start_time": "2022-06-08T09:48:24.949Z"
   },
   {
    "duration": 290,
    "start_time": "2022-06-08T09:48:35.460Z"
   },
   {
    "duration": 279,
    "start_time": "2022-06-08T09:48:37.404Z"
   },
   {
    "duration": 8,
    "start_time": "2022-06-08T09:50:45.373Z"
   },
   {
    "duration": 8,
    "start_time": "2022-06-08T09:52:09.806Z"
   },
   {
    "duration": 7,
    "start_time": "2022-06-08T09:53:22.260Z"
   },
   {
    "duration": 27,
    "start_time": "2022-06-08T10:01:26.670Z"
   },
   {
    "duration": 216,
    "start_time": "2022-06-08T10:01:54.508Z"
   },
   {
    "duration": 1709,
    "start_time": "2022-06-08T10:03:01.404Z"
   },
   {
    "duration": 17,
    "start_time": "2022-06-08T10:03:50.659Z"
   },
   {
    "duration": 9,
    "start_time": "2022-06-08T10:09:40.161Z"
   },
   {
    "duration": 19,
    "start_time": "2022-06-08T10:16:15.616Z"
   },
   {
    "duration": 32,
    "start_time": "2022-06-08T10:16:39.397Z"
   },
   {
    "duration": 8,
    "start_time": "2022-06-08T10:16:53.668Z"
   },
   {
    "duration": 1603,
    "start_time": "2022-06-08T20:26:27.463Z"
   },
   {
    "duration": 1804,
    "start_time": "2022-06-08T20:26:29.068Z"
   },
   {
    "duration": 3,
    "start_time": "2022-06-08T20:26:30.874Z"
   },
   {
    "duration": 62,
    "start_time": "2022-06-08T20:26:30.879Z"
   },
   {
    "duration": 21,
    "start_time": "2022-06-08T20:26:30.943Z"
   },
   {
    "duration": 34,
    "start_time": "2022-06-08T20:26:30.966Z"
   },
   {
    "duration": 35,
    "start_time": "2022-06-08T20:26:31.002Z"
   },
   {
    "duration": 30,
    "start_time": "2022-06-08T20:26:31.039Z"
   },
   {
    "duration": 14,
    "start_time": "2022-06-08T20:26:31.071Z"
   },
   {
    "duration": 32,
    "start_time": "2022-06-08T20:26:31.089Z"
   },
   {
    "duration": 15,
    "start_time": "2022-06-08T20:26:31.123Z"
   },
   {
    "duration": 23,
    "start_time": "2022-06-08T20:26:31.140Z"
   },
   {
    "duration": 35,
    "start_time": "2022-06-08T20:26:31.166Z"
   },
   {
    "duration": 15,
    "start_time": "2022-06-08T20:26:31.202Z"
   },
   {
    "duration": 10,
    "start_time": "2022-06-08T20:26:31.219Z"
   },
   {
    "duration": 34,
    "start_time": "2022-06-08T20:26:31.231Z"
   },
   {
    "duration": 20,
    "start_time": "2022-06-08T20:26:31.267Z"
   },
   {
    "duration": 20,
    "start_time": "2022-06-08T20:26:31.289Z"
   },
   {
    "duration": 38,
    "start_time": "2022-06-08T20:26:31.311Z"
   },
   {
    "duration": 19,
    "start_time": "2022-06-08T20:26:31.351Z"
   },
   {
    "duration": 20,
    "start_time": "2022-06-08T20:26:31.373Z"
   },
   {
    "duration": 124,
    "start_time": "2022-06-08T20:26:31.394Z"
   },
   {
    "duration": 32,
    "start_time": "2022-06-08T20:26:31.520Z"
   },
   {
    "duration": 144,
    "start_time": "2022-06-08T20:26:31.554Z"
   },
   {
    "duration": 5,
    "start_time": "2022-06-08T20:26:31.700Z"
   },
   {
    "duration": 458,
    "start_time": "2022-06-08T20:26:31.707Z"
   },
   {
    "duration": 430,
    "start_time": "2022-06-08T20:26:32.168Z"
   },
   {
    "duration": 425,
    "start_time": "2022-06-08T20:26:32.601Z"
   },
   {
    "duration": 18,
    "start_time": "2022-06-08T20:26:33.027Z"
   },
   {
    "duration": 222,
    "start_time": "2022-06-08T20:26:33.047Z"
   },
   {
    "duration": 12,
    "start_time": "2022-06-08T20:26:33.271Z"
   },
   {
    "duration": 244,
    "start_time": "2022-06-08T20:26:33.284Z"
   },
   {
    "duration": 3023,
    "start_time": "2022-06-08T20:26:33.531Z"
   },
   {
    "duration": 4,
    "start_time": "2022-06-08T20:26:36.557Z"
   },
   {
    "duration": 502,
    "start_time": "2022-06-08T20:26:36.563Z"
   },
   {
    "duration": 292,
    "start_time": "2022-06-08T20:26:37.066Z"
   },
   {
    "duration": 7,
    "start_time": "2022-06-08T20:26:37.361Z"
   },
   {
    "duration": 6,
    "start_time": "2022-06-08T20:26:37.369Z"
   },
   {
    "duration": 9,
    "start_time": "2022-06-08T20:26:37.376Z"
   },
   {
    "duration": 4,
    "start_time": "2022-06-08T20:26:37.386Z"
   },
   {
    "duration": 46,
    "start_time": "2022-06-08T20:26:37.392Z"
   },
   {
    "duration": 173,
    "start_time": "2022-06-08T20:26:37.440Z"
   },
   {
    "duration": 23,
    "start_time": "2022-06-08T20:26:37.615Z"
   },
   {
    "duration": 2033,
    "start_time": "2022-06-08T20:26:37.640Z"
   },
   {
    "duration": 291,
    "start_time": "2022-06-08T20:26:39.675Z"
   },
   {
    "duration": 323,
    "start_time": "2022-06-08T20:26:39.968Z"
   },
   {
    "duration": 280,
    "start_time": "2022-06-08T20:26:40.293Z"
   },
   {
    "duration": 299,
    "start_time": "2022-06-08T20:26:40.575Z"
   },
   {
    "duration": 9,
    "start_time": "2022-06-08T20:26:40.876Z"
   },
   {
    "duration": 13,
    "start_time": "2022-06-08T20:26:40.887Z"
   },
   {
    "duration": 29,
    "start_time": "2022-06-08T20:26:40.902Z"
   },
   {
    "duration": 200,
    "start_time": "2022-06-08T20:26:40.932Z"
   },
   {
    "duration": 4,
    "start_time": "2022-06-08T20:26:41.134Z"
   },
   {
    "duration": 14,
    "start_time": "2022-06-08T20:26:41.140Z"
   },
   {
    "duration": 11,
    "start_time": "2022-06-08T20:26:41.156Z"
   },
   {
    "duration": 5,
    "start_time": "2022-06-08T20:26:41.169Z"
   },
   {
    "duration": 4,
    "start_time": "2022-06-08T20:26:41.176Z"
   },
   {
    "duration": 6,
    "start_time": "2022-06-08T20:26:41.182Z"
   },
   {
    "duration": 6,
    "start_time": "2022-06-08T20:26:41.190Z"
   },
   {
    "duration": 1730,
    "start_time": "2022-06-08T20:26:41.197Z"
   },
   {
    "duration": 500,
    "start_time": "2022-06-08T20:26:42.928Z"
   },
   {
    "duration": 0,
    "start_time": "2022-06-08T20:26:43.429Z"
   },
   {
    "duration": 0,
    "start_time": "2022-06-08T20:26:43.430Z"
   },
   {
    "duration": 0,
    "start_time": "2022-06-08T20:26:43.432Z"
   },
   {
    "duration": 0,
    "start_time": "2022-06-08T20:26:43.433Z"
   },
   {
    "duration": 0,
    "start_time": "2022-06-08T20:26:43.434Z"
   },
   {
    "duration": 17,
    "start_time": "2022-06-08T20:27:37.740Z"
   },
   {
    "duration": 12,
    "start_time": "2022-06-08T20:27:53.498Z"
   },
   {
    "duration": 11,
    "start_time": "2022-06-08T20:28:33.604Z"
   },
   {
    "duration": 7,
    "start_time": "2022-06-08T20:28:41.801Z"
   },
   {
    "duration": 15,
    "start_time": "2022-06-08T20:29:00.451Z"
   },
   {
    "duration": 215,
    "start_time": "2022-06-08T20:33:32.022Z"
   },
   {
    "duration": 2469,
    "start_time": "2022-06-08T20:33:50.628Z"
   },
   {
    "duration": 3430,
    "start_time": "2022-06-08T20:34:10.227Z"
   },
   {
    "duration": 1992,
    "start_time": "2022-06-08T20:35:08.349Z"
   },
   {
    "duration": 17,
    "start_time": "2022-06-08T20:35:49.115Z"
   },
   {
    "duration": 15,
    "start_time": "2022-06-08T20:36:31.200Z"
   },
   {
    "duration": 1296,
    "start_time": "2022-06-08T20:36:48.613Z"
   },
   {
    "duration": 579,
    "start_time": "2022-06-08T20:36:49.910Z"
   },
   {
    "duration": 3,
    "start_time": "2022-06-08T20:36:50.490Z"
   },
   {
    "duration": 37,
    "start_time": "2022-06-08T20:36:50.494Z"
   },
   {
    "duration": 16,
    "start_time": "2022-06-08T20:36:50.533Z"
   },
   {
    "duration": 23,
    "start_time": "2022-06-08T20:36:50.550Z"
   },
   {
    "duration": 13,
    "start_time": "2022-06-08T20:36:50.574Z"
   },
   {
    "duration": 47,
    "start_time": "2022-06-08T20:36:50.588Z"
   },
   {
    "duration": 11,
    "start_time": "2022-06-08T20:36:50.636Z"
   },
   {
    "duration": 3,
    "start_time": "2022-06-08T20:36:50.648Z"
   },
   {
    "duration": 6,
    "start_time": "2022-06-08T20:36:50.652Z"
   },
   {
    "duration": 7,
    "start_time": "2022-06-08T20:36:50.660Z"
   },
   {
    "duration": 8,
    "start_time": "2022-06-08T20:36:50.669Z"
   },
   {
    "duration": 5,
    "start_time": "2022-06-08T20:36:50.680Z"
   },
   {
    "duration": 6,
    "start_time": "2022-06-08T20:36:50.687Z"
   },
   {
    "duration": 47,
    "start_time": "2022-06-08T20:36:50.695Z"
   },
   {
    "duration": 17,
    "start_time": "2022-06-08T20:36:50.744Z"
   },
   {
    "duration": 15,
    "start_time": "2022-06-08T20:36:50.762Z"
   },
   {
    "duration": 48,
    "start_time": "2022-06-08T20:36:50.778Z"
   },
   {
    "duration": 12,
    "start_time": "2022-06-08T20:36:50.828Z"
   },
   {
    "duration": 17,
    "start_time": "2022-06-08T20:36:50.841Z"
   },
   {
    "duration": 116,
    "start_time": "2022-06-08T20:36:50.860Z"
   },
   {
    "duration": 25,
    "start_time": "2022-06-08T20:36:50.978Z"
   },
   {
    "duration": 101,
    "start_time": "2022-06-08T20:36:51.005Z"
   },
   {
    "duration": 5,
    "start_time": "2022-06-08T20:36:51.108Z"
   },
   {
    "duration": 359,
    "start_time": "2022-06-08T20:36:51.125Z"
   },
   {
    "duration": 448,
    "start_time": "2022-06-08T20:36:51.486Z"
   },
   {
    "duration": 337,
    "start_time": "2022-06-08T20:36:51.935Z"
   },
   {
    "duration": 11,
    "start_time": "2022-06-08T20:36:52.274Z"
   },
   {
    "duration": 198,
    "start_time": "2022-06-08T20:36:52.286Z"
   },
   {
    "duration": 10,
    "start_time": "2022-06-08T20:36:52.485Z"
   },
   {
    "duration": 219,
    "start_time": "2022-06-08T20:36:52.497Z"
   },
   {
    "duration": 2556,
    "start_time": "2022-06-08T20:36:52.725Z"
   },
   {
    "duration": 5,
    "start_time": "2022-06-08T20:36:55.282Z"
   },
   {
    "duration": 263,
    "start_time": "2022-06-08T20:36:55.288Z"
   },
   {
    "duration": 413,
    "start_time": "2022-06-08T20:36:55.552Z"
   },
   {
    "duration": 5,
    "start_time": "2022-06-08T20:36:55.967Z"
   },
   {
    "duration": 3,
    "start_time": "2022-06-08T20:36:55.974Z"
   },
   {
    "duration": 10,
    "start_time": "2022-06-08T20:36:55.979Z"
   },
   {
    "duration": 3,
    "start_time": "2022-06-08T20:36:55.991Z"
   },
   {
    "duration": 40,
    "start_time": "2022-06-08T20:36:55.998Z"
   },
   {
    "duration": 135,
    "start_time": "2022-06-08T20:36:56.040Z"
   },
   {
    "duration": 2416,
    "start_time": "2022-06-08T20:36:56.176Z"
   },
   {
    "duration": 131,
    "start_time": "2022-06-08T20:36:58.594Z"
   },
   {
    "duration": 0,
    "start_time": "2022-06-08T20:36:58.726Z"
   },
   {
    "duration": 0,
    "start_time": "2022-06-08T20:36:58.727Z"
   },
   {
    "duration": 0,
    "start_time": "2022-06-08T20:36:58.728Z"
   },
   {
    "duration": 0,
    "start_time": "2022-06-08T20:36:58.729Z"
   },
   {
    "duration": 0,
    "start_time": "2022-06-08T20:36:58.730Z"
   },
   {
    "duration": 0,
    "start_time": "2022-06-08T20:36:58.731Z"
   },
   {
    "duration": 0,
    "start_time": "2022-06-08T20:36:58.732Z"
   },
   {
    "duration": 0,
    "start_time": "2022-06-08T20:36:58.733Z"
   },
   {
    "duration": 0,
    "start_time": "2022-06-08T20:36:58.733Z"
   },
   {
    "duration": 0,
    "start_time": "2022-06-08T20:36:58.734Z"
   },
   {
    "duration": 0,
    "start_time": "2022-06-08T20:36:58.735Z"
   },
   {
    "duration": 0,
    "start_time": "2022-06-08T20:36:58.736Z"
   },
   {
    "duration": 0,
    "start_time": "2022-06-08T20:36:58.737Z"
   },
   {
    "duration": 0,
    "start_time": "2022-06-08T20:36:58.738Z"
   },
   {
    "duration": 0,
    "start_time": "2022-06-08T20:36:58.739Z"
   },
   {
    "duration": 0,
    "start_time": "2022-06-08T20:36:58.740Z"
   },
   {
    "duration": 0,
    "start_time": "2022-06-08T20:36:58.741Z"
   },
   {
    "duration": 0,
    "start_time": "2022-06-08T20:36:58.742Z"
   },
   {
    "duration": 0,
    "start_time": "2022-06-08T20:36:58.744Z"
   },
   {
    "duration": 0,
    "start_time": "2022-06-08T20:36:58.753Z"
   },
   {
    "duration": 0,
    "start_time": "2022-06-08T20:36:58.757Z"
   },
   {
    "duration": 0,
    "start_time": "2022-06-08T20:36:58.759Z"
   },
   {
    "duration": 17,
    "start_time": "2022-06-08T20:37:38.319Z"
   },
   {
    "duration": 204,
    "start_time": "2022-06-08T20:41:45.824Z"
   },
   {
    "duration": 1524,
    "start_time": "2022-06-09T04:15:52.722Z"
   },
   {
    "duration": 3284,
    "start_time": "2022-06-09T04:15:54.248Z"
   },
   {
    "duration": 3,
    "start_time": "2022-06-09T04:15:57.533Z"
   },
   {
    "duration": 56,
    "start_time": "2022-06-09T04:15:57.538Z"
   },
   {
    "duration": 19,
    "start_time": "2022-06-09T04:15:57.595Z"
   },
   {
    "duration": 28,
    "start_time": "2022-06-09T04:15:57.615Z"
   },
   {
    "duration": 17,
    "start_time": "2022-06-09T04:15:57.665Z"
   },
   {
    "duration": 28,
    "start_time": "2022-06-09T04:15:57.684Z"
   },
   {
    "duration": 13,
    "start_time": "2022-06-09T04:15:57.714Z"
   },
   {
    "duration": 36,
    "start_time": "2022-06-09T04:15:57.729Z"
   },
   {
    "duration": 7,
    "start_time": "2022-06-09T04:15:57.767Z"
   },
   {
    "duration": 8,
    "start_time": "2022-06-09T04:15:57.776Z"
   },
   {
    "duration": 6,
    "start_time": "2022-06-09T04:15:57.786Z"
   },
   {
    "duration": 10,
    "start_time": "2022-06-09T04:15:57.793Z"
   },
   {
    "duration": 9,
    "start_time": "2022-06-09T04:15:57.804Z"
   },
   {
    "duration": 55,
    "start_time": "2022-06-09T04:15:57.815Z"
   },
   {
    "duration": 18,
    "start_time": "2022-06-09T04:15:57.872Z"
   },
   {
    "duration": 16,
    "start_time": "2022-06-09T04:15:57.892Z"
   },
   {
    "duration": 28,
    "start_time": "2022-06-09T04:15:57.910Z"
   },
   {
    "duration": 20,
    "start_time": "2022-06-09T04:15:57.965Z"
   },
   {
    "duration": 5,
    "start_time": "2022-06-09T04:15:57.987Z"
   },
   {
    "duration": 153,
    "start_time": "2022-06-09T04:15:57.994Z"
   },
   {
    "duration": 46,
    "start_time": "2022-06-09T04:15:58.150Z"
   },
   {
    "duration": 107,
    "start_time": "2022-06-09T04:15:58.198Z"
   },
   {
    "duration": 5,
    "start_time": "2022-06-09T04:15:58.306Z"
   },
   {
    "duration": 378,
    "start_time": "2022-06-09T04:15:58.312Z"
   },
   {
    "duration": 505,
    "start_time": "2022-06-09T04:15:58.691Z"
   },
   {
    "duration": 352,
    "start_time": "2022-06-09T04:15:59.201Z"
   },
   {
    "duration": 13,
    "start_time": "2022-06-09T04:15:59.564Z"
   },
   {
    "duration": 214,
    "start_time": "2022-06-09T04:15:59.579Z"
   },
   {
    "duration": 11,
    "start_time": "2022-06-09T04:15:59.795Z"
   },
   {
    "duration": 249,
    "start_time": "2022-06-09T04:15:59.808Z"
   },
   {
    "duration": 2760,
    "start_time": "2022-06-09T04:16:00.059Z"
   },
   {
    "duration": 5,
    "start_time": "2022-06-09T04:16:02.821Z"
   },
   {
    "duration": 439,
    "start_time": "2022-06-09T04:16:02.828Z"
   },
   {
    "duration": 293,
    "start_time": "2022-06-09T04:16:03.269Z"
   },
   {
    "duration": 6,
    "start_time": "2022-06-09T04:16:03.564Z"
   },
   {
    "duration": 5,
    "start_time": "2022-06-09T04:16:03.572Z"
   },
   {
    "duration": 12,
    "start_time": "2022-06-09T04:16:03.578Z"
   },
   {
    "duration": 14,
    "start_time": "2022-06-09T04:16:03.592Z"
   },
   {
    "duration": 58,
    "start_time": "2022-06-09T04:16:03.608Z"
   },
   {
    "duration": 238,
    "start_time": "2022-06-09T04:16:03.668Z"
   },
   {
    "duration": 364,
    "start_time": "2022-06-09T04:16:03.908Z"
   },
   {
    "duration": 0,
    "start_time": "2022-06-09T04:16:04.274Z"
   },
   {
    "duration": 0,
    "start_time": "2022-06-09T04:16:04.275Z"
   },
   {
    "duration": 0,
    "start_time": "2022-06-09T04:16:04.276Z"
   },
   {
    "duration": 0,
    "start_time": "2022-06-09T04:16:04.277Z"
   },
   {
    "duration": 0,
    "start_time": "2022-06-09T04:16:04.278Z"
   },
   {
    "duration": 0,
    "start_time": "2022-06-09T04:16:04.280Z"
   },
   {
    "duration": 0,
    "start_time": "2022-06-09T04:16:04.281Z"
   },
   {
    "duration": 0,
    "start_time": "2022-06-09T04:16:04.282Z"
   },
   {
    "duration": 0,
    "start_time": "2022-06-09T04:16:04.283Z"
   },
   {
    "duration": 0,
    "start_time": "2022-06-09T04:16:04.285Z"
   },
   {
    "duration": 0,
    "start_time": "2022-06-09T04:16:04.286Z"
   },
   {
    "duration": 0,
    "start_time": "2022-06-09T04:16:04.286Z"
   },
   {
    "duration": 0,
    "start_time": "2022-06-09T04:16:04.287Z"
   },
   {
    "duration": 0,
    "start_time": "2022-06-09T04:16:04.288Z"
   },
   {
    "duration": 0,
    "start_time": "2022-06-09T04:16:04.289Z"
   },
   {
    "duration": 0,
    "start_time": "2022-06-09T04:16:04.290Z"
   },
   {
    "duration": 0,
    "start_time": "2022-06-09T04:16:04.292Z"
   },
   {
    "duration": 0,
    "start_time": "2022-06-09T04:16:04.293Z"
   },
   {
    "duration": 0,
    "start_time": "2022-06-09T04:16:04.294Z"
   },
   {
    "duration": 0,
    "start_time": "2022-06-09T04:16:04.296Z"
   },
   {
    "duration": 0,
    "start_time": "2022-06-09T04:16:04.297Z"
   },
   {
    "duration": 0,
    "start_time": "2022-06-09T04:16:04.298Z"
   },
   {
    "duration": 0,
    "start_time": "2022-06-09T04:16:04.299Z"
   },
   {
    "duration": 221,
    "start_time": "2022-06-09T04:20:36.504Z"
   },
   {
    "duration": 216,
    "start_time": "2022-06-09T04:20:53.100Z"
   },
   {
    "duration": 21,
    "start_time": "2022-06-09T04:24:49.203Z"
   },
   {
    "duration": 617,
    "start_time": "2022-06-09T04:24:55.179Z"
   },
   {
    "duration": 116,
    "start_time": "2022-06-09T04:27:16.444Z"
   },
   {
    "duration": 626,
    "start_time": "2022-06-09T04:27:29.224Z"
   },
   {
    "duration": 328,
    "start_time": "2022-06-09T04:27:41.183Z"
   },
   {
    "duration": 282,
    "start_time": "2022-06-09T04:27:45.506Z"
   },
   {
    "duration": 275,
    "start_time": "2022-06-09T04:27:50.939Z"
   },
   {
    "duration": 370,
    "start_time": "2022-06-09T04:27:54.563Z"
   },
   {
    "duration": 7,
    "start_time": "2022-06-09T04:32:54.706Z"
   },
   {
    "duration": 12,
    "start_time": "2022-06-09T04:33:04.514Z"
   },
   {
    "duration": 11,
    "start_time": "2022-06-09T04:33:29.827Z"
   },
   {
    "duration": 42,
    "start_time": "2022-06-09T04:33:30.150Z"
   },
   {
    "duration": 4,
    "start_time": "2022-06-09T04:37:46.209Z"
   },
   {
    "duration": 4,
    "start_time": "2022-06-09T04:39:13.194Z"
   },
   {
    "duration": 8,
    "start_time": "2022-06-09T04:39:14.461Z"
   },
   {
    "duration": 3,
    "start_time": "2022-06-09T04:39:16.264Z"
   },
   {
    "duration": 4,
    "start_time": "2022-06-09T04:39:16.389Z"
   },
   {
    "duration": 4,
    "start_time": "2022-06-09T04:39:16.668Z"
   },
   {
    "duration": 3,
    "start_time": "2022-06-09T04:45:24.842Z"
   },
   {
    "duration": 3,
    "start_time": "2022-06-09T04:45:34.404Z"
   },
   {
    "duration": 1564,
    "start_time": "2022-06-09T04:45:38.201Z"
   },
   {
    "duration": 289,
    "start_time": "2022-06-09T04:46:35.889Z"
   },
   {
    "duration": 208171,
    "start_time": "2022-06-09T04:46:49.495Z"
   },
   {
    "duration": 0,
    "start_time": "2022-06-09T04:50:17.667Z"
   },
   {
    "duration": 1393,
    "start_time": "2022-06-09T04:50:47.804Z"
   },
   {
    "duration": 691,
    "start_time": "2022-06-09T04:50:49.199Z"
   },
   {
    "duration": 3,
    "start_time": "2022-06-09T04:50:49.892Z"
   },
   {
    "duration": 35,
    "start_time": "2022-06-09T04:50:49.897Z"
   },
   {
    "duration": 33,
    "start_time": "2022-06-09T04:50:49.934Z"
   },
   {
    "duration": 26,
    "start_time": "2022-06-09T04:50:49.969Z"
   },
   {
    "duration": 16,
    "start_time": "2022-06-09T04:50:49.998Z"
   },
   {
    "duration": 54,
    "start_time": "2022-06-09T04:50:50.016Z"
   },
   {
    "duration": 14,
    "start_time": "2022-06-09T04:50:50.072Z"
   },
   {
    "duration": 3,
    "start_time": "2022-06-09T04:50:50.089Z"
   },
   {
    "duration": 10,
    "start_time": "2022-06-09T04:50:50.094Z"
   },
   {
    "duration": 18,
    "start_time": "2022-06-09T04:50:50.106Z"
   },
   {
    "duration": 9,
    "start_time": "2022-06-09T04:50:50.125Z"
   },
   {
    "duration": 30,
    "start_time": "2022-06-09T04:50:50.136Z"
   },
   {
    "duration": 8,
    "start_time": "2022-06-09T04:50:50.167Z"
   },
   {
    "duration": 29,
    "start_time": "2022-06-09T04:50:50.177Z"
   },
   {
    "duration": 18,
    "start_time": "2022-06-09T04:50:50.208Z"
   },
   {
    "duration": 43,
    "start_time": "2022-06-09T04:50:50.228Z"
   },
   {
    "duration": 13,
    "start_time": "2022-06-09T04:50:50.273Z"
   },
   {
    "duration": 12,
    "start_time": "2022-06-09T04:50:50.288Z"
   },
   {
    "duration": 132,
    "start_time": "2022-06-09T04:50:50.302Z"
   },
   {
    "duration": 34,
    "start_time": "2022-06-09T04:50:50.435Z"
   },
   {
    "duration": 104,
    "start_time": "2022-06-09T04:50:50.471Z"
   },
   {
    "duration": 19,
    "start_time": "2022-06-09T04:50:50.577Z"
   },
   {
    "duration": 351,
    "start_time": "2022-06-09T04:50:50.597Z"
   },
   {
    "duration": 419,
    "start_time": "2022-06-09T04:50:50.950Z"
   },
   {
    "duration": 354,
    "start_time": "2022-06-09T04:50:51.371Z"
   },
   {
    "duration": 11,
    "start_time": "2022-06-09T04:50:51.729Z"
   },
   {
    "duration": 228,
    "start_time": "2022-06-09T04:50:51.742Z"
   },
   {
    "duration": 13,
    "start_time": "2022-06-09T04:50:51.972Z"
   },
   {
    "duration": 229,
    "start_time": "2022-06-09T04:50:51.986Z"
   },
   {
    "duration": 2697,
    "start_time": "2022-06-09T04:50:52.217Z"
   },
   {
    "duration": 4,
    "start_time": "2022-06-09T04:50:54.916Z"
   },
   {
    "duration": 306,
    "start_time": "2022-06-09T04:50:54.922Z"
   },
   {
    "duration": 412,
    "start_time": "2022-06-09T04:50:55.229Z"
   },
   {
    "duration": 6,
    "start_time": "2022-06-09T04:50:55.642Z"
   },
   {
    "duration": 17,
    "start_time": "2022-06-09T04:50:55.649Z"
   },
   {
    "duration": 15,
    "start_time": "2022-06-09T04:50:55.667Z"
   },
   {
    "duration": 3,
    "start_time": "2022-06-09T04:50:55.684Z"
   },
   {
    "duration": 20,
    "start_time": "2022-06-09T04:50:55.689Z"
   },
   {
    "duration": 157,
    "start_time": "2022-06-09T04:50:55.711Z"
   },
   {
    "duration": 669,
    "start_time": "2022-06-09T04:50:55.869Z"
   },
   {
    "duration": 7,
    "start_time": "2022-06-09T04:50:56.540Z"
   },
   {
    "duration": 28,
    "start_time": "2022-06-09T04:50:56.548Z"
   },
   {
    "duration": 22,
    "start_time": "2022-06-09T04:50:56.578Z"
   },
   {
    "duration": 40,
    "start_time": "2022-06-09T04:50:56.602Z"
   },
   {
    "duration": 3,
    "start_time": "2022-06-09T04:50:56.644Z"
   },
   {
    "duration": 16,
    "start_time": "2022-06-09T04:50:56.649Z"
   },
   {
    "duration": 13,
    "start_time": "2022-06-09T04:50:56.666Z"
   },
   {
    "duration": 6,
    "start_time": "2022-06-09T04:50:56.682Z"
   },
   {
    "duration": 33,
    "start_time": "2022-06-09T04:50:56.690Z"
   },
   {
    "duration": 3,
    "start_time": "2022-06-09T04:50:56.724Z"
   },
   {
    "duration": 8,
    "start_time": "2022-06-09T04:50:56.730Z"
   },
   {
    "duration": 0,
    "start_time": "2022-06-09T04:50:56.740Z"
   },
   {
    "duration": 0,
    "start_time": "2022-06-09T04:50:56.741Z"
   },
   {
    "duration": 0,
    "start_time": "2022-06-09T04:50:56.742Z"
   },
   {
    "duration": 0,
    "start_time": "2022-06-09T04:50:56.744Z"
   },
   {
    "duration": 0,
    "start_time": "2022-06-09T04:50:56.765Z"
   },
   {
    "duration": 0,
    "start_time": "2022-06-09T04:50:56.765Z"
   },
   {
    "duration": 1413,
    "start_time": "2022-06-09T05:35:59.288Z"
   },
   {
    "duration": 881,
    "start_time": "2022-06-09T05:36:00.704Z"
   },
   {
    "duration": 4,
    "start_time": "2022-06-09T05:36:01.587Z"
   },
   {
    "duration": 73,
    "start_time": "2022-06-09T05:36:01.594Z"
   },
   {
    "duration": 26,
    "start_time": "2022-06-09T05:36:01.669Z"
   },
   {
    "duration": 49,
    "start_time": "2022-06-09T05:36:01.696Z"
   },
   {
    "duration": 29,
    "start_time": "2022-06-09T05:36:01.747Z"
   },
   {
    "duration": 54,
    "start_time": "2022-06-09T05:36:01.780Z"
   },
   {
    "duration": 15,
    "start_time": "2022-06-09T05:36:01.836Z"
   },
   {
    "duration": 4,
    "start_time": "2022-06-09T05:36:01.866Z"
   },
   {
    "duration": 43,
    "start_time": "2022-06-09T05:36:01.874Z"
   },
   {
    "duration": 22,
    "start_time": "2022-06-09T05:36:01.919Z"
   },
   {
    "duration": 15,
    "start_time": "2022-06-09T05:36:01.943Z"
   },
   {
    "duration": 39,
    "start_time": "2022-06-09T05:36:01.960Z"
   },
   {
    "duration": 31,
    "start_time": "2022-06-09T05:36:02.002Z"
   },
   {
    "duration": 42,
    "start_time": "2022-06-09T05:36:02.036Z"
   },
   {
    "duration": 21,
    "start_time": "2022-06-09T05:36:02.080Z"
   },
   {
    "duration": 32,
    "start_time": "2022-06-09T05:36:02.103Z"
   },
   {
    "duration": 31,
    "start_time": "2022-06-09T05:36:02.138Z"
   },
   {
    "duration": 6,
    "start_time": "2022-06-09T05:36:02.171Z"
   },
   {
    "duration": 145,
    "start_time": "2022-06-09T05:36:02.179Z"
   },
   {
    "duration": 27,
    "start_time": "2022-06-09T05:36:02.327Z"
   },
   {
    "duration": 135,
    "start_time": "2022-06-09T05:36:02.367Z"
   },
   {
    "duration": 6,
    "start_time": "2022-06-09T05:36:02.504Z"
   },
   {
    "duration": 414,
    "start_time": "2022-06-09T05:36:02.512Z"
   },
   {
    "duration": 616,
    "start_time": "2022-06-09T05:36:02.928Z"
   },
   {
    "duration": 472,
    "start_time": "2022-06-09T05:36:03.546Z"
   },
   {
    "duration": 12,
    "start_time": "2022-06-09T05:36:04.023Z"
   },
   {
    "duration": 289,
    "start_time": "2022-06-09T05:36:04.037Z"
   },
   {
    "duration": 15,
    "start_time": "2022-06-09T05:36:04.327Z"
   },
   {
    "duration": 296,
    "start_time": "2022-06-09T05:36:04.344Z"
   },
   {
    "duration": 3182,
    "start_time": "2022-06-09T05:36:04.643Z"
   },
   {
    "duration": 5,
    "start_time": "2022-06-09T05:36:07.827Z"
   },
   {
    "duration": 343,
    "start_time": "2022-06-09T05:36:07.834Z"
   },
   {
    "duration": 508,
    "start_time": "2022-06-09T05:36:08.183Z"
   },
   {
    "duration": 7,
    "start_time": "2022-06-09T05:36:08.694Z"
   },
   {
    "duration": 17,
    "start_time": "2022-06-09T05:36:08.705Z"
   },
   {
    "duration": 15,
    "start_time": "2022-06-09T05:36:08.724Z"
   },
   {
    "duration": 10,
    "start_time": "2022-06-09T05:36:08.740Z"
   },
   {
    "duration": 30,
    "start_time": "2022-06-09T05:36:08.752Z"
   },
   {
    "duration": 193,
    "start_time": "2022-06-09T05:36:08.784Z"
   },
   {
    "duration": 809,
    "start_time": "2022-06-09T05:36:08.979Z"
   },
   {
    "duration": 8,
    "start_time": "2022-06-09T05:36:09.791Z"
   },
   {
    "duration": 23,
    "start_time": "2022-06-09T05:36:09.801Z"
   },
   {
    "duration": 20,
    "start_time": "2022-06-09T05:36:09.825Z"
   },
   {
    "duration": 65,
    "start_time": "2022-06-09T05:36:09.848Z"
   },
   {
    "duration": 3,
    "start_time": "2022-06-09T05:36:09.916Z"
   },
   {
    "duration": 24,
    "start_time": "2022-06-09T05:36:09.921Z"
   },
   {
    "duration": 33,
    "start_time": "2022-06-09T05:36:09.947Z"
   },
   {
    "duration": 26,
    "start_time": "2022-06-09T05:36:09.982Z"
   },
   {
    "duration": 71,
    "start_time": "2022-06-09T05:36:10.010Z"
   },
   {
    "duration": 4,
    "start_time": "2022-06-09T05:36:10.086Z"
   },
   {
    "duration": 35,
    "start_time": "2022-06-09T05:36:10.092Z"
   },
   {
    "duration": 0,
    "start_time": "2022-06-09T05:36:10.129Z"
   },
   {
    "duration": 0,
    "start_time": "2022-06-09T05:36:10.130Z"
   },
   {
    "duration": 0,
    "start_time": "2022-06-09T05:36:10.132Z"
   },
   {
    "duration": 0,
    "start_time": "2022-06-09T05:36:10.133Z"
   },
   {
    "duration": 0,
    "start_time": "2022-06-09T05:36:10.135Z"
   },
   {
    "duration": 0,
    "start_time": "2022-06-09T05:36:10.137Z"
   },
   {
    "duration": 5,
    "start_time": "2022-06-09T05:37:44.160Z"
   },
   {
    "duration": 162,
    "start_time": "2022-06-09T05:38:39.563Z"
   },
   {
    "duration": 75,
    "start_time": "2022-06-09T05:39:27.816Z"
   },
   {
    "duration": 34,
    "start_time": "2022-06-09T05:39:55.670Z"
   },
   {
    "duration": 32,
    "start_time": "2022-06-09T05:40:07.119Z"
   },
   {
    "duration": 30,
    "start_time": "2022-06-09T05:40:22.775Z"
   },
   {
    "duration": 3,
    "start_time": "2022-06-09T05:40:23.999Z"
   },
   {
    "duration": 25,
    "start_time": "2022-06-09T05:40:27.295Z"
   },
   {
    "duration": 15,
    "start_time": "2022-06-09T05:40:31.842Z"
   },
   {
    "duration": 31,
    "start_time": "2022-06-09T05:41:09.273Z"
   },
   {
    "duration": 39,
    "start_time": "2022-06-09T05:42:01.193Z"
   },
   {
    "duration": 11,
    "start_time": "2022-06-09T05:44:11.144Z"
   },
   {
    "duration": 15,
    "start_time": "2022-06-09T05:46:05.118Z"
   },
   {
    "duration": 9,
    "start_time": "2022-06-09T05:46:08.242Z"
   },
   {
    "duration": 12,
    "start_time": "2022-06-09T05:48:06.522Z"
   },
   {
    "duration": 1407,
    "start_time": "2022-06-09T05:48:20.586Z"
   },
   {
    "duration": 750,
    "start_time": "2022-06-09T05:48:21.995Z"
   },
   {
    "duration": 3,
    "start_time": "2022-06-09T05:48:22.747Z"
   },
   {
    "duration": 45,
    "start_time": "2022-06-09T05:48:22.752Z"
   },
   {
    "duration": 18,
    "start_time": "2022-06-09T05:48:22.799Z"
   },
   {
    "duration": 28,
    "start_time": "2022-06-09T05:48:22.819Z"
   },
   {
    "duration": 24,
    "start_time": "2022-06-09T05:48:22.869Z"
   },
   {
    "duration": 29,
    "start_time": "2022-06-09T05:48:22.895Z"
   },
   {
    "duration": 13,
    "start_time": "2022-06-09T05:48:22.926Z"
   },
   {
    "duration": 7,
    "start_time": "2022-06-09T05:48:22.966Z"
   },
   {
    "duration": 17,
    "start_time": "2022-06-09T05:48:22.978Z"
   },
   {
    "duration": 5,
    "start_time": "2022-06-09T05:48:22.997Z"
   },
   {
    "duration": 5,
    "start_time": "2022-06-09T05:48:23.004Z"
   },
   {
    "duration": 6,
    "start_time": "2022-06-09T05:48:23.011Z"
   },
   {
    "duration": 9,
    "start_time": "2022-06-09T05:48:23.019Z"
   },
   {
    "duration": 55,
    "start_time": "2022-06-09T05:48:23.030Z"
   },
   {
    "duration": 24,
    "start_time": "2022-06-09T05:48:23.087Z"
   },
   {
    "duration": 20,
    "start_time": "2022-06-09T05:48:23.113Z"
   },
   {
    "duration": 50,
    "start_time": "2022-06-09T05:48:23.135Z"
   },
   {
    "duration": 14,
    "start_time": "2022-06-09T05:48:23.187Z"
   },
   {
    "duration": 146,
    "start_time": "2022-06-09T05:48:23.203Z"
   },
   {
    "duration": 34,
    "start_time": "2022-06-09T05:48:23.351Z"
   },
   {
    "duration": 110,
    "start_time": "2022-06-09T05:48:23.386Z"
   },
   {
    "duration": 4,
    "start_time": "2022-06-09T05:48:23.498Z"
   },
   {
    "duration": 415,
    "start_time": "2022-06-09T05:48:23.506Z"
   },
   {
    "duration": 491,
    "start_time": "2022-06-09T05:48:23.923Z"
   },
   {
    "duration": 423,
    "start_time": "2022-06-09T05:48:24.416Z"
   },
   {
    "duration": 35,
    "start_time": "2022-06-09T05:48:24.844Z"
   },
   {
    "duration": 246,
    "start_time": "2022-06-09T05:48:24.885Z"
   },
   {
    "duration": 13,
    "start_time": "2022-06-09T05:48:25.132Z"
   },
   {
    "duration": 262,
    "start_time": "2022-06-09T05:48:25.147Z"
   },
   {
    "duration": 2990,
    "start_time": "2022-06-09T05:48:25.410Z"
   },
   {
    "duration": 6,
    "start_time": "2022-06-09T05:48:28.403Z"
   },
   {
    "duration": 335,
    "start_time": "2022-06-09T05:48:28.411Z"
   },
   {
    "duration": 537,
    "start_time": "2022-06-09T05:48:28.748Z"
   },
   {
    "duration": 8,
    "start_time": "2022-06-09T05:48:29.287Z"
   },
   {
    "duration": 12,
    "start_time": "2022-06-09T05:48:29.297Z"
   },
   {
    "duration": 21,
    "start_time": "2022-06-09T05:48:29.311Z"
   },
   {
    "duration": 10,
    "start_time": "2022-06-09T05:48:29.335Z"
   },
   {
    "duration": 33,
    "start_time": "2022-06-09T05:48:29.347Z"
   },
   {
    "duration": 146,
    "start_time": "2022-06-09T05:48:29.382Z"
   },
   {
    "duration": 703,
    "start_time": "2022-06-09T05:48:29.530Z"
   },
   {
    "duration": 9,
    "start_time": "2022-06-09T05:48:30.236Z"
   },
   {
    "duration": 35,
    "start_time": "2022-06-09T05:48:30.247Z"
   },
   {
    "duration": 26,
    "start_time": "2022-06-09T05:48:30.287Z"
   },
   {
    "duration": 61,
    "start_time": "2022-06-09T05:48:30.315Z"
   },
   {
    "duration": 4,
    "start_time": "2022-06-09T05:48:30.386Z"
   },
   {
    "duration": 17,
    "start_time": "2022-06-09T05:48:30.392Z"
   },
   {
    "duration": 28,
    "start_time": "2022-06-09T05:48:30.411Z"
   },
   {
    "duration": 16,
    "start_time": "2022-06-09T05:48:30.441Z"
   },
   {
    "duration": 45,
    "start_time": "2022-06-09T05:48:30.459Z"
   },
   {
    "duration": 26,
    "start_time": "2022-06-09T05:48:30.506Z"
   },
   {
    "duration": 139,
    "start_time": "2022-06-09T05:48:30.533Z"
   },
   {
    "duration": 0,
    "start_time": "2022-06-09T05:48:30.682Z"
   },
   {
    "duration": 0,
    "start_time": "2022-06-09T05:48:30.683Z"
   },
   {
    "duration": 0,
    "start_time": "2022-06-09T05:48:30.685Z"
   },
   {
    "duration": 0,
    "start_time": "2022-06-09T05:48:30.686Z"
   },
   {
    "duration": 0,
    "start_time": "2022-06-09T05:48:30.687Z"
   },
   {
    "duration": 0,
    "start_time": "2022-06-09T05:48:30.688Z"
   },
   {
    "duration": 0,
    "start_time": "2022-06-09T05:48:30.690Z"
   },
   {
    "duration": 0,
    "start_time": "2022-06-09T05:48:30.691Z"
   },
   {
    "duration": 4,
    "start_time": "2022-06-09T05:49:02.346Z"
   },
   {
    "duration": 18,
    "start_time": "2022-06-09T05:50:36.507Z"
   },
   {
    "duration": 36,
    "start_time": "2022-06-09T06:02:31.162Z"
   },
   {
    "duration": 16,
    "start_time": "2022-06-09T06:02:45.395Z"
   },
   {
    "duration": 13,
    "start_time": "2022-06-09T06:02:53.897Z"
   },
   {
    "duration": 5,
    "start_time": "2022-06-09T06:02:59.025Z"
   },
   {
    "duration": 13,
    "start_time": "2022-06-09T06:03:07.052Z"
   },
   {
    "duration": 26,
    "start_time": "2022-06-09T06:03:39.155Z"
   },
   {
    "duration": 6,
    "start_time": "2022-06-09T06:03:44.099Z"
   },
   {
    "duration": 38,
    "start_time": "2022-06-09T06:08:39.799Z"
   },
   {
    "duration": 18,
    "start_time": "2022-06-09T06:10:44.154Z"
   },
   {
    "duration": 23,
    "start_time": "2022-06-09T06:10:55.433Z"
   },
   {
    "duration": 24,
    "start_time": "2022-06-09T06:12:02.750Z"
   },
   {
    "duration": 21,
    "start_time": "2022-06-09T06:12:49.671Z"
   },
   {
    "duration": 43,
    "start_time": "2022-06-09T06:12:57.062Z"
   },
   {
    "duration": 21,
    "start_time": "2022-06-09T06:14:16.391Z"
   },
   {
    "duration": 3,
    "start_time": "2022-06-09T06:14:59.531Z"
   },
   {
    "duration": 1640,
    "start_time": "2022-06-09T06:15:01.624Z"
   },
   {
    "duration": 365,
    "start_time": "2022-06-09T06:15:09.600Z"
   },
   {
    "duration": 13219,
    "start_time": "2022-06-09T06:15:15.553Z"
   },
   {
    "duration": 28553,
    "start_time": "2022-06-09T06:15:42.118Z"
   },
   {
    "duration": 3,
    "start_time": "2022-06-09T06:17:15.329Z"
   },
   {
    "duration": 14,
    "start_time": "2022-06-09T06:17:20.611Z"
   },
   {
    "duration": 5,
    "start_time": "2022-06-09T06:17:22.333Z"
   },
   {
    "duration": 6,
    "start_time": "2022-06-09T06:17:23.301Z"
   },
   {
    "duration": 73,
    "start_time": "2022-06-09T06:17:24.551Z"
   },
   {
    "duration": 4,
    "start_time": "2022-06-09T06:19:20.022Z"
   },
   {
    "duration": 2937,
    "start_time": "2022-06-09T09:25:53.438Z"
   },
   {
    "duration": 5949,
    "start_time": "2022-06-09T09:25:56.384Z"
   },
   {
    "duration": 3,
    "start_time": "2022-06-09T09:26:02.335Z"
   },
   {
    "duration": 90,
    "start_time": "2022-06-09T09:26:02.340Z"
   },
   {
    "duration": 26,
    "start_time": "2022-06-09T09:26:02.436Z"
   },
   {
    "duration": 77,
    "start_time": "2022-06-09T09:26:02.464Z"
   },
   {
    "duration": 51,
    "start_time": "2022-06-09T09:26:02.543Z"
   },
   {
    "duration": 73,
    "start_time": "2022-06-09T09:26:02.613Z"
   },
   {
    "duration": 22,
    "start_time": "2022-06-09T09:26:02.688Z"
   },
   {
    "duration": 24,
    "start_time": "2022-06-09T09:26:02.713Z"
   },
   {
    "duration": 13,
    "start_time": "2022-06-09T09:26:02.739Z"
   },
   {
    "duration": 30,
    "start_time": "2022-06-09T09:26:02.754Z"
   },
   {
    "duration": 123,
    "start_time": "2022-06-09T09:26:02.786Z"
   },
   {
    "duration": 45,
    "start_time": "2022-06-09T09:26:02.911Z"
   },
   {
    "duration": 93,
    "start_time": "2022-06-09T09:26:02.958Z"
   },
   {
    "duration": 162,
    "start_time": "2022-06-09T09:26:03.052Z"
   },
   {
    "duration": 58,
    "start_time": "2022-06-09T09:26:03.228Z"
   },
   {
    "duration": 42,
    "start_time": "2022-06-09T09:26:03.292Z"
   },
   {
    "duration": 115,
    "start_time": "2022-06-09T09:26:03.340Z"
   },
   {
    "duration": 67,
    "start_time": "2022-06-09T09:26:03.457Z"
   },
   {
    "duration": 246,
    "start_time": "2022-06-09T09:26:03.532Z"
   },
   {
    "duration": 50,
    "start_time": "2022-06-09T09:26:03.780Z"
   },
   {
    "duration": 198,
    "start_time": "2022-06-09T09:26:03.832Z"
   },
   {
    "duration": 5,
    "start_time": "2022-06-09T09:26:04.035Z"
   },
   {
    "duration": 506,
    "start_time": "2022-06-09T09:26:04.041Z"
   },
   {
    "duration": 636,
    "start_time": "2022-06-09T09:26:04.550Z"
   },
   {
    "duration": 487,
    "start_time": "2022-06-09T09:26:05.187Z"
   },
   {
    "duration": 27,
    "start_time": "2022-06-09T09:26:05.679Z"
   },
   {
    "duration": 381,
    "start_time": "2022-06-09T09:26:05.708Z"
   },
   {
    "duration": 30,
    "start_time": "2022-06-09T09:26:06.092Z"
   },
   {
    "duration": 392,
    "start_time": "2022-06-09T09:26:06.132Z"
   },
   {
    "duration": 4017,
    "start_time": "2022-06-09T09:26:06.530Z"
   },
   {
    "duration": 38,
    "start_time": "2022-06-09T09:26:10.549Z"
   },
   {
    "duration": 598,
    "start_time": "2022-06-09T09:26:10.592Z"
   },
   {
    "duration": 361,
    "start_time": "2022-06-09T09:26:11.195Z"
   },
   {
    "duration": 24,
    "start_time": "2022-06-09T09:26:11.563Z"
   },
   {
    "duration": 36,
    "start_time": "2022-06-09T09:26:11.603Z"
   },
   {
    "duration": 19,
    "start_time": "2022-06-09T09:26:11.642Z"
   },
   {
    "duration": 71,
    "start_time": "2022-06-09T09:26:11.674Z"
   },
   {
    "duration": 122,
    "start_time": "2022-06-09T09:26:11.747Z"
   },
   {
    "duration": 201,
    "start_time": "2022-06-09T09:26:11.883Z"
   },
   {
    "duration": 1028,
    "start_time": "2022-06-09T09:26:12.090Z"
   },
   {
    "duration": 23,
    "start_time": "2022-06-09T09:26:13.128Z"
   },
   {
    "duration": 73,
    "start_time": "2022-06-09T09:26:13.153Z"
   },
   {
    "duration": 95,
    "start_time": "2022-06-09T09:26:13.228Z"
   },
   {
    "duration": 108,
    "start_time": "2022-06-09T09:26:13.330Z"
   },
   {
    "duration": 6,
    "start_time": "2022-06-09T09:26:13.440Z"
   },
   {
    "duration": 5,
    "start_time": "2022-06-09T09:26:13.448Z"
   },
   {
    "duration": 50,
    "start_time": "2022-06-09T09:26:13.454Z"
   },
   {
    "duration": 35,
    "start_time": "2022-06-09T09:26:13.505Z"
   },
   {
    "duration": 10,
    "start_time": "2022-06-09T09:26:13.541Z"
   },
   {
    "duration": 54,
    "start_time": "2022-06-09T09:26:13.552Z"
   },
   {
    "duration": 30,
    "start_time": "2022-06-09T09:26:13.607Z"
   },
   {
    "duration": 3876,
    "start_time": "2022-06-09T09:26:13.639Z"
   },
   {
    "duration": 54886,
    "start_time": "2022-06-09T09:26:17.538Z"
   },
   {
    "duration": 14,
    "start_time": "2022-06-09T09:27:12.434Z"
   },
   {
    "duration": 89,
    "start_time": "2022-06-09T09:27:12.451Z"
   },
   {
    "duration": 42,
    "start_time": "2022-06-09T09:27:12.541Z"
   },
   {
    "duration": 51,
    "start_time": "2022-06-09T09:27:12.591Z"
   },
   {
    "duration": 170,
    "start_time": "2022-06-09T09:27:12.644Z"
   },
   {
    "duration": 218585,
    "start_time": "2022-06-09T09:35:45.961Z"
   },
   {
    "duration": 641,
    "start_time": "2022-06-09T09:44:14.903Z"
   },
   {
    "duration": 0,
    "start_time": "2022-06-09T09:44:15.545Z"
   },
   {
    "duration": 97,
    "start_time": "2022-06-09T09:44:25.797Z"
   },
   {
    "duration": 34,
    "start_time": "2022-06-09T09:45:07.776Z"
   },
   {
    "duration": 6,
    "start_time": "2022-06-09T09:45:39.050Z"
   },
   {
    "duration": 7,
    "start_time": "2022-06-09T09:45:39.792Z"
   },
   {
    "duration": 70,
    "start_time": "2022-06-09T09:45:42.184Z"
   },
   {
    "duration": 1512,
    "start_time": "2022-06-09T09:45:57.880Z"
   },
   {
    "duration": 3840,
    "start_time": "2022-06-09T09:45:59.395Z"
   },
   {
    "duration": 2,
    "start_time": "2022-06-09T09:46:03.237Z"
   },
   {
    "duration": 97,
    "start_time": "2022-06-09T09:46:03.241Z"
   },
   {
    "duration": 16,
    "start_time": "2022-06-09T09:46:03.340Z"
   },
   {
    "duration": 46,
    "start_time": "2022-06-09T09:46:03.358Z"
   },
   {
    "duration": 23,
    "start_time": "2022-06-09T09:46:03.408Z"
   },
   {
    "duration": 36,
    "start_time": "2022-06-09T09:46:03.432Z"
   },
   {
    "duration": 19,
    "start_time": "2022-06-09T09:46:03.470Z"
   },
   {
    "duration": 7,
    "start_time": "2022-06-09T09:46:03.492Z"
   },
   {
    "duration": 10,
    "start_time": "2022-06-09T09:46:03.501Z"
   },
   {
    "duration": 6,
    "start_time": "2022-06-09T09:46:03.512Z"
   },
   {
    "duration": 14,
    "start_time": "2022-06-09T09:46:03.519Z"
   },
   {
    "duration": 19,
    "start_time": "2022-06-09T09:46:03.534Z"
   },
   {
    "duration": 15,
    "start_time": "2022-06-09T09:46:03.554Z"
   },
   {
    "duration": 51,
    "start_time": "2022-06-09T09:46:03.572Z"
   },
   {
    "duration": 17,
    "start_time": "2022-06-09T09:46:03.625Z"
   },
   {
    "duration": 15,
    "start_time": "2022-06-09T09:46:03.644Z"
   },
   {
    "duration": 16,
    "start_time": "2022-06-09T09:46:03.661Z"
   },
   {
    "duration": 20,
    "start_time": "2022-06-09T09:46:03.679Z"
   },
   {
    "duration": 131,
    "start_time": "2022-06-09T09:46:03.701Z"
   },
   {
    "duration": 42,
    "start_time": "2022-06-09T09:46:03.833Z"
   },
   {
    "duration": 110,
    "start_time": "2022-06-09T09:46:03.877Z"
   },
   {
    "duration": 5,
    "start_time": "2022-06-09T09:46:03.991Z"
   },
   {
    "duration": 440,
    "start_time": "2022-06-09T09:46:03.998Z"
   },
   {
    "duration": 510,
    "start_time": "2022-06-09T09:46:04.440Z"
   },
   {
    "duration": 460,
    "start_time": "2022-06-09T09:46:04.952Z"
   },
   {
    "duration": 13,
    "start_time": "2022-06-09T09:46:05.415Z"
   },
   {
    "duration": 274,
    "start_time": "2022-06-09T09:46:05.430Z"
   },
   {
    "duration": 12,
    "start_time": "2022-06-09T09:46:05.706Z"
   },
   {
    "duration": 290,
    "start_time": "2022-06-09T09:46:05.720Z"
   },
   {
    "duration": 3130,
    "start_time": "2022-06-09T09:46:06.011Z"
   },
   {
    "duration": 5,
    "start_time": "2022-06-09T09:46:09.143Z"
   },
   {
    "duration": 352,
    "start_time": "2022-06-09T09:46:09.162Z"
   },
   {
    "duration": 525,
    "start_time": "2022-06-09T09:46:09.516Z"
   },
   {
    "duration": 17,
    "start_time": "2022-06-09T09:46:10.043Z"
   },
   {
    "duration": 32,
    "start_time": "2022-06-09T09:46:10.065Z"
   },
   {
    "duration": 21,
    "start_time": "2022-06-09T09:46:10.100Z"
   },
   {
    "duration": 22,
    "start_time": "2022-06-09T09:46:10.122Z"
   },
   {
    "duration": 53,
    "start_time": "2022-06-09T09:46:10.146Z"
   },
   {
    "duration": 153,
    "start_time": "2022-06-09T09:46:10.201Z"
   },
   {
    "duration": 719,
    "start_time": "2022-06-09T09:46:10.356Z"
   },
   {
    "duration": 12,
    "start_time": "2022-06-09T09:46:11.079Z"
   },
   {
    "duration": 29,
    "start_time": "2022-06-09T09:46:11.093Z"
   },
   {
    "duration": 21,
    "start_time": "2022-06-09T09:46:11.124Z"
   },
   {
    "duration": 85,
    "start_time": "2022-06-09T09:46:11.147Z"
   },
   {
    "duration": 4,
    "start_time": "2022-06-09T09:46:11.234Z"
   },
   {
    "duration": 43,
    "start_time": "2022-06-09T09:46:11.240Z"
   },
   {
    "duration": 21,
    "start_time": "2022-06-09T09:46:11.285Z"
   },
   {
    "duration": 28,
    "start_time": "2022-06-09T09:46:11.310Z"
   },
   {
    "duration": 13,
    "start_time": "2022-06-09T09:46:11.340Z"
   },
   {
    "duration": 63,
    "start_time": "2022-06-09T09:46:11.355Z"
   },
   {
    "duration": 8,
    "start_time": "2022-06-09T09:46:11.419Z"
   },
   {
    "duration": 3354,
    "start_time": "2022-06-09T09:46:11.428Z"
   },
   {
    "duration": 0,
    "start_time": "2022-06-09T09:52:11.960Z"
   },
   {
    "duration": 0,
    "start_time": "2022-06-09T09:52:11.961Z"
   },
   {
    "duration": 0,
    "start_time": "2022-06-09T09:52:11.962Z"
   },
   {
    "duration": 0,
    "start_time": "2022-06-09T09:52:11.963Z"
   },
   {
    "duration": 0,
    "start_time": "2022-06-09T09:52:11.964Z"
   },
   {
    "duration": 0,
    "start_time": "2022-06-09T09:52:11.964Z"
   },
   {
    "duration": 0,
    "start_time": "2022-06-09T09:52:11.965Z"
   },
   {
    "duration": 2740,
    "start_time": "2022-06-09T09:52:17.949Z"
   },
   {
    "duration": 1215561,
    "start_time": "2022-06-09T09:52:25.276Z"
   },
   {
    "duration": 1398,
    "start_time": "2022-06-09T10:39:08.063Z"
   },
   {
    "duration": 792,
    "start_time": "2022-06-09T10:39:09.462Z"
   },
   {
    "duration": 5,
    "start_time": "2022-06-09T10:39:10.255Z"
   },
   {
    "duration": 77,
    "start_time": "2022-06-09T10:39:10.264Z"
   },
   {
    "duration": 18,
    "start_time": "2022-06-09T10:39:10.343Z"
   },
   {
    "duration": 36,
    "start_time": "2022-06-09T10:39:10.363Z"
   },
   {
    "duration": 15,
    "start_time": "2022-06-09T10:39:10.400Z"
   },
   {
    "duration": 44,
    "start_time": "2022-06-09T10:39:10.416Z"
   },
   {
    "duration": 20,
    "start_time": "2022-06-09T10:39:10.466Z"
   },
   {
    "duration": 6,
    "start_time": "2022-06-09T10:39:10.489Z"
   },
   {
    "duration": 9,
    "start_time": "2022-06-09T10:39:10.497Z"
   },
   {
    "duration": 6,
    "start_time": "2022-06-09T10:39:10.507Z"
   },
   {
    "duration": 6,
    "start_time": "2022-06-09T10:39:10.514Z"
   },
   {
    "duration": 7,
    "start_time": "2022-06-09T10:39:10.521Z"
   },
   {
    "duration": 9,
    "start_time": "2022-06-09T10:39:10.530Z"
   },
   {
    "duration": 81,
    "start_time": "2022-06-09T10:39:10.540Z"
   },
   {
    "duration": 22,
    "start_time": "2022-06-09T10:39:10.622Z"
   },
   {
    "duration": 23,
    "start_time": "2022-06-09T10:39:10.646Z"
   },
   {
    "duration": 21,
    "start_time": "2022-06-09T10:39:10.671Z"
   },
   {
    "duration": 16,
    "start_time": "2022-06-09T10:39:10.694Z"
   },
   {
    "duration": 140,
    "start_time": "2022-06-09T10:39:10.712Z"
   },
   {
    "duration": 40,
    "start_time": "2022-06-09T10:39:10.854Z"
   },
   {
    "duration": 132,
    "start_time": "2022-06-09T10:39:10.896Z"
   },
   {
    "duration": 3,
    "start_time": "2022-06-09T10:39:11.029Z"
   },
   {
    "duration": 378,
    "start_time": "2022-06-09T10:39:11.034Z"
   },
   {
    "duration": 461,
    "start_time": "2022-06-09T10:39:11.414Z"
   },
   {
    "duration": 410,
    "start_time": "2022-06-09T10:39:11.877Z"
   },
   {
    "duration": 14,
    "start_time": "2022-06-09T10:39:12.293Z"
   },
   {
    "duration": 256,
    "start_time": "2022-06-09T10:39:12.309Z"
   },
   {
    "duration": 16,
    "start_time": "2022-06-09T10:39:12.567Z"
   },
   {
    "duration": 267,
    "start_time": "2022-06-09T10:39:12.584Z"
   },
   {
    "duration": 2902,
    "start_time": "2022-06-09T10:39:12.852Z"
   },
   {
    "duration": 15,
    "start_time": "2022-06-09T10:39:15.756Z"
   },
   {
    "duration": 326,
    "start_time": "2022-06-09T10:39:15.778Z"
   },
   {
    "duration": 443,
    "start_time": "2022-06-09T10:39:16.105Z"
   },
   {
    "duration": 12,
    "start_time": "2022-06-09T10:39:16.550Z"
   },
   {
    "duration": 42,
    "start_time": "2022-06-09T10:39:16.564Z"
   },
   {
    "duration": 13,
    "start_time": "2022-06-09T10:39:16.607Z"
   },
   {
    "duration": 14,
    "start_time": "2022-06-09T10:39:16.621Z"
   },
   {
    "duration": 28,
    "start_time": "2022-06-09T10:39:16.637Z"
   },
   {
    "duration": 152,
    "start_time": "2022-06-09T10:39:16.669Z"
   },
   {
    "duration": 796,
    "start_time": "2022-06-09T10:39:16.823Z"
   },
   {
    "duration": 10,
    "start_time": "2022-06-09T10:39:17.621Z"
   },
   {
    "duration": 40,
    "start_time": "2022-06-09T10:39:17.633Z"
   },
   {
    "duration": 12,
    "start_time": "2022-06-09T10:39:17.675Z"
   },
   {
    "duration": 45,
    "start_time": "2022-06-09T10:39:17.690Z"
   },
   {
    "duration": 3,
    "start_time": "2022-06-09T10:39:17.737Z"
   },
   {
    "duration": 8,
    "start_time": "2022-06-09T10:39:17.741Z"
   },
   {
    "duration": 39,
    "start_time": "2022-06-09T10:39:17.758Z"
   },
   {
    "duration": 6,
    "start_time": "2022-06-09T10:39:17.799Z"
   },
   {
    "duration": 9,
    "start_time": "2022-06-09T10:39:17.806Z"
   },
   {
    "duration": 30,
    "start_time": "2022-06-09T10:39:17.817Z"
   },
   {
    "duration": 3,
    "start_time": "2022-06-09T10:39:17.849Z"
   },
   {
    "duration": 2138,
    "start_time": "2022-06-09T10:39:17.854Z"
   },
   {
    "duration": 59,
    "start_time": "2022-06-10T08:23:32.616Z"
   },
   {
    "duration": 1665,
    "start_time": "2022-06-10T08:23:50.213Z"
   },
   {
    "duration": 2214,
    "start_time": "2022-06-10T08:23:51.884Z"
   },
   {
    "duration": 3,
    "start_time": "2022-06-10T08:23:54.100Z"
   },
   {
    "duration": 47,
    "start_time": "2022-06-10T08:23:54.104Z"
   },
   {
    "duration": 23,
    "start_time": "2022-06-10T08:23:54.154Z"
   },
   {
    "duration": 38,
    "start_time": "2022-06-10T08:23:54.179Z"
   },
   {
    "duration": 16,
    "start_time": "2022-06-10T08:23:54.219Z"
   },
   {
    "duration": 46,
    "start_time": "2022-06-10T08:23:54.238Z"
   },
   {
    "duration": 17,
    "start_time": "2022-06-10T08:23:54.286Z"
   },
   {
    "duration": 3,
    "start_time": "2022-06-10T08:23:54.305Z"
   },
   {
    "duration": 8,
    "start_time": "2022-06-10T08:23:54.310Z"
   },
   {
    "duration": 6,
    "start_time": "2022-06-10T08:23:54.320Z"
   },
   {
    "duration": 38,
    "start_time": "2022-06-10T08:23:54.328Z"
   },
   {
    "duration": 5,
    "start_time": "2022-06-10T08:23:54.373Z"
   },
   {
    "duration": 8,
    "start_time": "2022-06-10T08:23:54.380Z"
   },
   {
    "duration": 26,
    "start_time": "2022-06-10T08:23:54.390Z"
   },
   {
    "duration": 44,
    "start_time": "2022-06-10T08:23:54.420Z"
   },
   {
    "duration": 19,
    "start_time": "2022-06-10T08:23:54.466Z"
   },
   {
    "duration": 14,
    "start_time": "2022-06-10T08:23:54.486Z"
   },
   {
    "duration": 9,
    "start_time": "2022-06-10T08:23:54.502Z"
   },
   {
    "duration": 161,
    "start_time": "2022-06-10T08:23:54.513Z"
   },
   {
    "duration": 24,
    "start_time": "2022-06-10T08:23:54.676Z"
   },
   {
    "duration": 109,
    "start_time": "2022-06-10T08:23:54.702Z"
   },
   {
    "duration": 5,
    "start_time": "2022-06-10T08:23:54.812Z"
   },
   {
    "duration": 413,
    "start_time": "2022-06-10T08:23:54.819Z"
   },
   {
    "duration": 490,
    "start_time": "2022-06-10T08:23:55.234Z"
   },
   {
    "duration": 396,
    "start_time": "2022-06-10T08:23:55.726Z"
   },
   {
    "duration": 15,
    "start_time": "2022-06-10T08:23:56.124Z"
   },
   {
    "duration": 275,
    "start_time": "2022-06-10T08:23:56.141Z"
   },
   {
    "duration": 14,
    "start_time": "2022-06-10T08:23:56.417Z"
   },
   {
    "duration": 273,
    "start_time": "2022-06-10T08:23:56.433Z"
   },
   {
    "duration": 3169,
    "start_time": "2022-06-10T08:23:56.709Z"
   },
   {
    "duration": 4,
    "start_time": "2022-06-10T08:23:59.880Z"
   },
   {
    "duration": 540,
    "start_time": "2022-06-10T08:23:59.886Z"
   },
   {
    "duration": 347,
    "start_time": "2022-06-10T08:24:00.428Z"
   },
   {
    "duration": 7,
    "start_time": "2022-06-10T08:24:00.779Z"
   },
   {
    "duration": 23,
    "start_time": "2022-06-10T08:24:00.788Z"
   },
   {
    "duration": 22,
    "start_time": "2022-06-10T08:24:00.814Z"
   },
   {
    "duration": 6,
    "start_time": "2022-06-10T08:24:00.838Z"
   },
   {
    "duration": 30,
    "start_time": "2022-06-10T08:24:00.846Z"
   },
   {
    "duration": 161,
    "start_time": "2022-06-10T08:24:00.881Z"
   },
   {
    "duration": 751,
    "start_time": "2022-06-10T08:24:01.043Z"
   },
   {
    "duration": 18,
    "start_time": "2022-06-10T08:24:01.797Z"
   },
   {
    "duration": 58,
    "start_time": "2022-06-10T08:24:01.817Z"
   },
   {
    "duration": 26,
    "start_time": "2022-06-10T08:24:01.879Z"
   },
   {
    "duration": 59,
    "start_time": "2022-06-10T08:24:01.907Z"
   },
   {
    "duration": 10,
    "start_time": "2022-06-10T08:24:01.974Z"
   },
   {
    "duration": 39,
    "start_time": "2022-06-10T08:24:01.986Z"
   },
   {
    "duration": 39,
    "start_time": "2022-06-10T08:24:02.027Z"
   },
   {
    "duration": 57,
    "start_time": "2022-06-10T08:24:02.068Z"
   },
   {
    "duration": 49,
    "start_time": "2022-06-10T08:24:02.128Z"
   },
   {
    "duration": 58,
    "start_time": "2022-06-10T08:24:02.180Z"
   },
   {
    "duration": 4,
    "start_time": "2022-06-10T08:24:02.240Z"
   },
   {
    "duration": 2927,
    "start_time": "2022-06-10T08:24:02.246Z"
   },
   {
    "duration": 1500,
    "start_time": "2022-06-10T08:31:29.689Z"
   },
   {
    "duration": 780,
    "start_time": "2022-06-10T08:31:31.191Z"
   },
   {
    "duration": 4,
    "start_time": "2022-06-10T08:31:31.978Z"
   },
   {
    "duration": 70,
    "start_time": "2022-06-10T08:31:31.985Z"
   },
   {
    "duration": 26,
    "start_time": "2022-06-10T08:31:32.059Z"
   },
   {
    "duration": 38,
    "start_time": "2022-06-10T08:31:32.088Z"
   },
   {
    "duration": 48,
    "start_time": "2022-06-10T08:31:32.128Z"
   },
   {
    "duration": 44,
    "start_time": "2022-06-10T08:31:32.179Z"
   },
   {
    "duration": 33,
    "start_time": "2022-06-10T08:31:32.226Z"
   },
   {
    "duration": 30,
    "start_time": "2022-06-10T08:31:32.263Z"
   },
   {
    "duration": 17,
    "start_time": "2022-06-10T08:31:32.296Z"
   },
   {
    "duration": 15,
    "start_time": "2022-06-10T08:31:32.315Z"
   },
   {
    "duration": 16,
    "start_time": "2022-06-10T08:31:32.332Z"
   },
   {
    "duration": 24,
    "start_time": "2022-06-10T08:31:32.350Z"
   },
   {
    "duration": 16,
    "start_time": "2022-06-10T08:31:32.377Z"
   },
   {
    "duration": 32,
    "start_time": "2022-06-10T08:31:32.395Z"
   },
   {
    "duration": 17,
    "start_time": "2022-06-10T08:31:32.429Z"
   },
   {
    "duration": 26,
    "start_time": "2022-06-10T08:31:32.448Z"
   },
   {
    "duration": 15,
    "start_time": "2022-06-10T08:31:32.476Z"
   },
   {
    "duration": 9,
    "start_time": "2022-06-10T08:31:32.493Z"
   },
   {
    "duration": 148,
    "start_time": "2022-06-10T08:31:32.504Z"
   },
   {
    "duration": 32,
    "start_time": "2022-06-10T08:31:32.654Z"
   },
   {
    "duration": 118,
    "start_time": "2022-06-10T08:31:32.688Z"
   },
   {
    "duration": 4,
    "start_time": "2022-06-10T08:31:32.808Z"
   },
   {
    "duration": 409,
    "start_time": "2022-06-10T08:31:32.814Z"
   },
   {
    "duration": 481,
    "start_time": "2022-06-10T08:31:33.225Z"
   },
   {
    "duration": 387,
    "start_time": "2022-06-10T08:31:33.709Z"
   },
   {
    "duration": 13,
    "start_time": "2022-06-10T08:31:34.101Z"
   },
   {
    "duration": 224,
    "start_time": "2022-06-10T08:31:34.116Z"
   },
   {
    "duration": 27,
    "start_time": "2022-06-10T08:31:34.342Z"
   },
   {
    "duration": 245,
    "start_time": "2022-06-10T08:31:34.371Z"
   },
   {
    "duration": 2896,
    "start_time": "2022-06-10T08:31:34.617Z"
   },
   {
    "duration": 5,
    "start_time": "2022-06-10T08:31:37.515Z"
   },
   {
    "duration": 378,
    "start_time": "2022-06-10T08:31:37.522Z"
   },
   {
    "duration": 475,
    "start_time": "2022-06-10T08:31:37.902Z"
   },
   {
    "duration": 5,
    "start_time": "2022-06-10T08:31:38.379Z"
   },
   {
    "duration": 10,
    "start_time": "2022-06-10T08:31:38.386Z"
   },
   {
    "duration": 14,
    "start_time": "2022-06-10T08:31:38.397Z"
   },
   {
    "duration": 6,
    "start_time": "2022-06-10T08:31:38.413Z"
   },
   {
    "duration": 21,
    "start_time": "2022-06-10T08:31:38.420Z"
   },
   {
    "duration": 174,
    "start_time": "2022-06-10T08:31:38.443Z"
   },
   {
    "duration": 391,
    "start_time": "2022-06-10T08:31:38.618Z"
   },
   {
    "duration": 0,
    "start_time": "2022-06-10T08:31:39.011Z"
   },
   {
    "duration": 0,
    "start_time": "2022-06-10T08:31:39.013Z"
   },
   {
    "duration": 0,
    "start_time": "2022-06-10T08:31:39.014Z"
   },
   {
    "duration": 0,
    "start_time": "2022-06-10T08:31:39.014Z"
   },
   {
    "duration": 0,
    "start_time": "2022-06-10T08:31:39.016Z"
   },
   {
    "duration": 0,
    "start_time": "2022-06-10T08:31:39.017Z"
   },
   {
    "duration": 0,
    "start_time": "2022-06-10T08:31:39.018Z"
   },
   {
    "duration": 0,
    "start_time": "2022-06-10T08:31:39.019Z"
   },
   {
    "duration": 0,
    "start_time": "2022-06-10T08:31:39.020Z"
   },
   {
    "duration": 0,
    "start_time": "2022-06-10T08:31:39.021Z"
   },
   {
    "duration": 0,
    "start_time": "2022-06-10T08:31:39.022Z"
   },
   {
    "duration": 0,
    "start_time": "2022-06-10T08:31:39.023Z"
   },
   {
    "duration": 0,
    "start_time": "2022-06-10T08:31:39.024Z"
   },
   {
    "duration": 0,
    "start_time": "2022-06-10T08:31:39.025Z"
   },
   {
    "duration": 0,
    "start_time": "2022-06-10T08:31:39.026Z"
   },
   {
    "duration": 0,
    "start_time": "2022-06-10T08:31:39.027Z"
   },
   {
    "duration": 0,
    "start_time": "2022-06-10T08:31:39.028Z"
   },
   {
    "duration": 0,
    "start_time": "2022-06-10T08:31:39.060Z"
   },
   {
    "duration": 0,
    "start_time": "2022-06-10T08:31:39.061Z"
   },
   {
    "duration": 286,
    "start_time": "2022-06-10T08:34:03.078Z"
   },
   {
    "duration": 702,
    "start_time": "2022-06-10T08:35:15.477Z"
   },
   {
    "duration": 795,
    "start_time": "2022-06-10T08:36:28.677Z"
   },
   {
    "duration": 31,
    "start_time": "2022-06-10T08:36:55.151Z"
   },
   {
    "duration": 669,
    "start_time": "2022-06-10T08:37:47.330Z"
   },
   {
    "duration": 10,
    "start_time": "2022-06-10T08:40:07.311Z"
   },
   {
    "duration": 14,
    "start_time": "2022-06-10T08:40:07.328Z"
   },
   {
    "duration": 10,
    "start_time": "2022-06-10T08:40:07.344Z"
   },
   {
    "duration": 57,
    "start_time": "2022-06-10T08:40:07.356Z"
   },
   {
    "duration": 4,
    "start_time": "2022-06-10T08:40:07.415Z"
   },
   {
    "duration": 6,
    "start_time": "2022-06-10T08:40:07.421Z"
   },
   {
    "duration": 10,
    "start_time": "2022-06-10T08:40:07.430Z"
   },
   {
    "duration": 7,
    "start_time": "2022-06-10T08:40:07.442Z"
   },
   {
    "duration": 15,
    "start_time": "2022-06-10T08:40:07.451Z"
   },
   {
    "duration": 34,
    "start_time": "2022-06-10T08:40:07.471Z"
   },
   {
    "duration": 3,
    "start_time": "2022-06-10T08:40:07.507Z"
   },
   {
    "duration": 2748,
    "start_time": "2022-06-10T08:40:07.512Z"
   },
   {
    "duration": 1573,
    "start_time": "2022-10-04T13:24:03.113Z"
   },
   {
    "duration": 3413,
    "start_time": "2022-10-04T13:24:05.472Z"
   },
   {
    "duration": 3,
    "start_time": "2022-10-04T13:24:10.038Z"
   },
   {
    "duration": 31,
    "start_time": "2022-10-04T13:24:25.135Z"
   },
   {
    "duration": 19,
    "start_time": "2022-10-04T13:24:29.395Z"
   },
   {
    "duration": 30,
    "start_time": "2022-10-04T13:24:31.397Z"
   },
   {
    "duration": 21,
    "start_time": "2022-10-04T13:24:33.037Z"
   },
   {
    "duration": 34,
    "start_time": "2022-10-04T13:24:33.793Z"
   },
   {
    "duration": 20,
    "start_time": "2022-10-04T13:24:35.001Z"
   },
   {
    "duration": 3,
    "start_time": "2022-10-04T13:24:37.414Z"
   },
   {
    "duration": 5,
    "start_time": "2022-10-04T13:24:38.595Z"
   },
   {
    "duration": 5,
    "start_time": "2022-10-04T13:24:39.818Z"
   },
   {
    "duration": 6,
    "start_time": "2022-10-04T13:24:45.440Z"
   },
   {
    "duration": 7,
    "start_time": "2022-10-04T13:24:50.610Z"
   },
   {
    "duration": 25,
    "start_time": "2022-10-04T13:24:51.846Z"
   },
   {
    "duration": 18,
    "start_time": "2022-10-04T13:24:52.837Z"
   },
   {
    "duration": 17,
    "start_time": "2022-10-04T13:24:54.804Z"
   },
   {
    "duration": 13,
    "start_time": "2022-10-04T13:24:58.372Z"
   },
   {
    "duration": 4,
    "start_time": "2022-10-04T13:24:59.188Z"
   },
   {
    "duration": 122,
    "start_time": "2022-10-04T13:25:02.182Z"
   },
   {
    "duration": 24,
    "start_time": "2022-10-04T13:25:02.504Z"
   },
   {
    "duration": 92,
    "start_time": "2022-10-04T13:25:03.071Z"
   },
   {
    "duration": 394,
    "start_time": "2022-10-04T13:25:05.535Z"
   },
   {
    "duration": 416,
    "start_time": "2022-10-04T13:25:09.253Z"
   },
   {
    "duration": 373,
    "start_time": "2022-10-04T13:25:11.670Z"
   },
   {
    "duration": 18,
    "start_time": "2022-10-04T13:25:16.387Z"
   },
   {
    "duration": 252,
    "start_time": "2022-10-04T13:25:19.656Z"
   },
   {
    "duration": 12,
    "start_time": "2022-10-04T13:25:21.372Z"
   },
   {
    "duration": 211,
    "start_time": "2022-10-04T13:25:21.694Z"
   },
   {
    "duration": 200,
    "start_time": "2022-10-04T13:25:27.477Z"
   },
   {
    "duration": 205,
    "start_time": "2022-10-04T13:25:31.576Z"
   },
   {
    "duration": 170,
    "start_time": "2022-10-04T13:25:38.956Z"
   },
   {
    "duration": 4,
    "start_time": "2022-10-04T13:25:45.067Z"
   },
   {
    "duration": 289,
    "start_time": "2022-10-04T13:25:54.207Z"
   },
   {
    "duration": 377,
    "start_time": "2022-10-04T13:26:08.146Z"
   },
   {
    "duration": 6,
    "start_time": "2022-10-04T13:26:11.535Z"
   },
   {
    "duration": 3,
    "start_time": "2022-10-04T13:26:14.713Z"
   },
   {
    "duration": 11,
    "start_time": "2022-10-04T13:26:15.010Z"
   },
   {
    "duration": 19,
    "start_time": "2022-10-04T13:26:15.603Z"
   },
   {
    "duration": 669,
    "start_time": "2022-10-04T13:26:17.845Z"
   },
   {
    "duration": 8,
    "start_time": "2022-10-04T13:26:42.948Z"
   },
   {
    "duration": 12,
    "start_time": "2022-10-04T13:26:44.670Z"
   },
   {
    "duration": 9,
    "start_time": "2022-10-04T13:26:47.325Z"
   },
   {
    "duration": 40,
    "start_time": "2022-10-04T13:26:47.623Z"
   },
   {
    "duration": 4,
    "start_time": "2022-10-04T13:26:50.379Z"
   },
   {
    "duration": 7,
    "start_time": "2022-10-04T13:26:51.950Z"
   },
   {
    "duration": 8,
    "start_time": "2022-10-04T13:26:52.419Z"
   },
   {
    "duration": 4,
    "start_time": "2022-10-04T13:26:52.988Z"
   },
   {
    "duration": 29,
    "start_time": "2022-10-04T13:26:53.938Z"
   },
   {
    "duration": 4,
    "start_time": "2022-10-04T13:26:55.106Z"
   },
   {
    "duration": 1729,
    "start_time": "2022-10-04T13:26:56.003Z"
   },
   {
    "duration": 1549,
    "start_time": "2022-10-05T04:19:29.839Z"
   },
   {
    "duration": 3109,
    "start_time": "2022-10-05T04:19:31.390Z"
   },
   {
    "duration": 3,
    "start_time": "2022-10-05T04:19:34.500Z"
   },
   {
    "duration": 27,
    "start_time": "2022-10-05T04:19:34.505Z"
   },
   {
    "duration": 17,
    "start_time": "2022-10-05T04:19:34.533Z"
   },
   {
    "duration": 25,
    "start_time": "2022-10-05T04:19:34.551Z"
   },
   {
    "duration": 14,
    "start_time": "2022-10-05T04:19:34.577Z"
   },
   {
    "duration": 47,
    "start_time": "2022-10-05T04:19:34.593Z"
   },
   {
    "duration": 11,
    "start_time": "2022-10-05T04:19:34.642Z"
   },
   {
    "duration": 3,
    "start_time": "2022-10-05T04:19:34.655Z"
   },
   {
    "duration": 10,
    "start_time": "2022-10-05T04:19:34.659Z"
   },
   {
    "duration": 6,
    "start_time": "2022-10-05T04:19:34.671Z"
   },
   {
    "duration": 7,
    "start_time": "2022-10-05T04:19:34.678Z"
   },
   {
    "duration": 8,
    "start_time": "2022-10-05T04:19:34.686Z"
   },
   {
    "duration": 46,
    "start_time": "2022-10-05T04:19:34.696Z"
   },
   {
    "duration": 18,
    "start_time": "2022-10-05T04:19:34.744Z"
   },
   {
    "duration": 15,
    "start_time": "2022-10-05T04:19:34.764Z"
   },
   {
    "duration": 12,
    "start_time": "2022-10-05T04:19:34.781Z"
   },
   {
    "duration": 7,
    "start_time": "2022-10-05T04:19:34.794Z"
   },
   {
    "duration": 141,
    "start_time": "2022-10-05T04:19:34.802Z"
   },
   {
    "duration": 21,
    "start_time": "2022-10-05T04:19:34.944Z"
   },
   {
    "duration": 98,
    "start_time": "2022-10-05T04:19:34.967Z"
   },
   {
    "duration": 325,
    "start_time": "2022-10-05T04:19:35.066Z"
   },
   {
    "duration": 393,
    "start_time": "2022-10-05T04:19:35.393Z"
   },
   {
    "duration": 354,
    "start_time": "2022-10-05T04:19:35.789Z"
   },
   {
    "duration": 14,
    "start_time": "2022-10-05T04:19:36.144Z"
   },
   {
    "duration": 206,
    "start_time": "2022-10-05T04:19:36.160Z"
   },
   {
    "duration": 12,
    "start_time": "2022-10-05T04:19:36.371Z"
   },
   {
    "duration": 201,
    "start_time": "2022-10-05T04:19:36.384Z"
   },
   {
    "duration": 4,
    "start_time": "2022-10-05T04:19:36.587Z"
   },
   {
    "duration": 280,
    "start_time": "2022-10-05T04:19:36.593Z"
   },
   {
    "duration": 266,
    "start_time": "2022-10-05T04:19:36.874Z"
   },
   {
    "duration": 6,
    "start_time": "2022-10-05T04:19:37.142Z"
   },
   {
    "duration": 4,
    "start_time": "2022-10-05T04:19:37.150Z"
   },
   {
    "duration": 15,
    "start_time": "2022-10-05T04:19:37.155Z"
   },
   {
    "duration": 17,
    "start_time": "2022-10-05T04:19:37.171Z"
   },
   {
    "duration": 689,
    "start_time": "2022-10-05T04:19:37.190Z"
   },
   {
    "duration": 8,
    "start_time": "2022-10-05T04:19:37.881Z"
   },
   {
    "duration": 15,
    "start_time": "2022-10-05T04:19:37.891Z"
   },
   {
    "duration": 30,
    "start_time": "2022-10-05T04:19:37.907Z"
   },
   {
    "duration": 36,
    "start_time": "2022-10-05T04:19:37.939Z"
   },
   {
    "duration": 3,
    "start_time": "2022-10-05T04:19:37.977Z"
   },
   {
    "duration": 13,
    "start_time": "2022-10-05T04:19:37.982Z"
   },
   {
    "duration": 10,
    "start_time": "2022-10-05T04:19:37.996Z"
   },
   {
    "duration": 5,
    "start_time": "2022-10-05T04:19:38.008Z"
   },
   {
    "duration": 33,
    "start_time": "2022-10-05T04:19:38.015Z"
   },
   {
    "duration": 2,
    "start_time": "2022-10-05T04:19:38.050Z"
   },
   {
    "duration": 1589,
    "start_time": "2022-10-05T04:19:38.054Z"
   },
   {
    "duration": 800502,
    "start_time": "2022-10-05T04:19:39.738Z"
   },
   {
    "duration": 92,
    "start_time": "2022-10-05T04:33:00.242Z"
   },
   {
    "duration": 5,
    "start_time": "2022-10-05T04:33:00.335Z"
   },
   {
    "duration": 14,
    "start_time": "2022-10-05T04:33:00.342Z"
   },
   {
    "duration": 461,
    "start_time": "2022-10-05T04:33:00.358Z"
   }
  ],
  "colab": {
   "collapsed_sections": [],
   "name": "Копия 12_sprint.ipynb",
   "provenance": []
  },
  "kernelspec": {
   "display_name": "Python 3 (ipykernel)",
   "language": "python",
   "name": "python3"
  },
  "language_info": {
   "codemirror_mode": {
    "name": "ipython",
    "version": 3
   },
   "file_extension": ".py",
   "mimetype": "text/x-python",
   "name": "python",
   "nbconvert_exporter": "python",
   "pygments_lexer": "ipython3",
   "version": "3.9.5"
  },
  "toc": {
   "base_numbering": 1,
   "nav_menu": {},
   "number_sections": true,
   "sideBar": true,
   "skip_h1_title": true,
   "title_cell": "Table of Contents",
   "title_sidebar": "Contents",
   "toc_cell": false,
   "toc_position": {},
   "toc_section_display": true,
   "toc_window_display": false
  }
 },
 "nbformat": 4,
 "nbformat_minor": 1
}
